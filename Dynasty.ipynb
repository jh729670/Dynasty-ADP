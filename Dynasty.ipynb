{
 "cells": [
  {
   "cell_type": "code",
   "execution_count": 1,
   "metadata": {},
   "outputs": [],
   "source": [
    "import numpy as np\n",
    "import pandas as pd\n",
    "import matplotlib.pyplot as plt\n",
    "\n",
    "dynasty=pd.read_csv('Dynasty.csv')"
   ]
  },
  {
   "cell_type": "code",
   "execution_count": 131,
   "metadata": {},
   "outputs": [
    {
     "data": {
      "text/html": [
       "<div>\n",
       "<style scoped>\n",
       "    .dataframe tbody tr th:only-of-type {\n",
       "        vertical-align: middle;\n",
       "    }\n",
       "\n",
       "    .dataframe tbody tr th {\n",
       "        vertical-align: top;\n",
       "    }\n",
       "\n",
       "    .dataframe thead th {\n",
       "        text-align: right;\n",
       "    }\n",
       "</style>\n",
       "<table border=\"1\" class=\"dataframe\">\n",
       "  <thead>\n",
       "    <tr style=\"text-align: right;\">\n",
       "      <th></th>\n",
       "      <th>Rank</th>\n",
       "      <th>Player</th>\n",
       "      <th>Team</th>\n",
       "      <th>Year</th>\n",
       "      <th>Pos</th>\n",
       "      <th>AGE</th>\n",
       "      <th>Round</th>\n",
       "      <th>Rookie</th>\n",
       "      <th>Fantasy Points</th>\n",
       "      <th>ADP</th>\n",
       "      <th>Rd_drafted</th>\n",
       "      <th>#1</th>\n",
       "      <th>#2</th>\n",
       "      <th>#3</th>\n",
       "      <th>#4</th>\n",
       "      <th>#5</th>\n",
       "      <th>#6</th>\n",
       "    </tr>\n",
       "  </thead>\n",
       "  <tbody>\n",
       "    <tr>\n",
       "      <th>0</th>\n",
       "      <td>1</td>\n",
       "      <td>AJ Green</td>\n",
       "      <td>CIN</td>\n",
       "      <td>2014</td>\n",
       "      <td>WR</td>\n",
       "      <td>25</td>\n",
       "      <td>1</td>\n",
       "      <td>No</td>\n",
       "      <td>257.6</td>\n",
       "      <td>2.5</td>\n",
       "      <td>1</td>\n",
       "      <td>4</td>\n",
       "      <td>3</td>\n",
       "      <td>1</td>\n",
       "      <td>4</td>\n",
       "      <td>2</td>\n",
       "      <td>1</td>\n",
       "    </tr>\n",
       "    <tr>\n",
       "      <th>1</th>\n",
       "      <td>2</td>\n",
       "      <td>Calvin Johnson</td>\n",
       "      <td>DET</td>\n",
       "      <td>2014</td>\n",
       "      <td>WR</td>\n",
       "      <td>28</td>\n",
       "      <td>1</td>\n",
       "      <td>No</td>\n",
       "      <td>261.2</td>\n",
       "      <td>2.7</td>\n",
       "      <td>1</td>\n",
       "      <td>2</td>\n",
       "      <td>6</td>\n",
       "      <td>2</td>\n",
       "      <td>2</td>\n",
       "      <td>1</td>\n",
       "      <td>3</td>\n",
       "    </tr>\n",
       "    <tr>\n",
       "      <th>2</th>\n",
       "      <td>3</td>\n",
       "      <td>LeSean McCoy</td>\n",
       "      <td>PHI</td>\n",
       "      <td>2014</td>\n",
       "      <td>RB</td>\n",
       "      <td>25</td>\n",
       "      <td>2</td>\n",
       "      <td>No</td>\n",
       "      <td>304.6</td>\n",
       "      <td>2.8</td>\n",
       "      <td>1</td>\n",
       "      <td>1</td>\n",
       "      <td>1</td>\n",
       "      <td>4</td>\n",
       "      <td>1</td>\n",
       "      <td>5</td>\n",
       "      <td>5</td>\n",
       "    </tr>\n",
       "    <tr>\n",
       "      <th>3</th>\n",
       "      <td>4</td>\n",
       "      <td>Dez Bryant</td>\n",
       "      <td>DAL</td>\n",
       "      <td>2014</td>\n",
       "      <td>WR</td>\n",
       "      <td>25</td>\n",
       "      <td>1</td>\n",
       "      <td>No</td>\n",
       "      <td>245.9</td>\n",
       "      <td>4.5</td>\n",
       "      <td>1</td>\n",
       "      <td>6</td>\n",
       "      <td>7</td>\n",
       "      <td>6</td>\n",
       "      <td>3</td>\n",
       "      <td>3</td>\n",
       "      <td>2</td>\n",
       "    </tr>\n",
       "    <tr>\n",
       "      <th>4</th>\n",
       "      <td>5</td>\n",
       "      <td>Demaryius Thomas</td>\n",
       "      <td>DEN</td>\n",
       "      <td>2014</td>\n",
       "      <td>WR</td>\n",
       "      <td>26</td>\n",
       "      <td>1</td>\n",
       "      <td>No</td>\n",
       "      <td>273.0</td>\n",
       "      <td>5.5</td>\n",
       "      <td>1</td>\n",
       "      <td>5</td>\n",
       "      <td>5</td>\n",
       "      <td>3</td>\n",
       "      <td>5</td>\n",
       "      <td>8</td>\n",
       "      <td>7</td>\n",
       "    </tr>\n",
       "  </tbody>\n",
       "</table>\n",
       "</div>"
      ],
      "text/plain": [
       "   Rank            Player  Team  Year Pos  AGE Round Rookie  Fantasy Points  \\\n",
       "0     1          AJ Green   CIN  2014  WR   25     1     No           257.6   \n",
       "1     2    Calvin Johnson   DET  2014  WR   28     1     No           261.2   \n",
       "2     3      LeSean McCoy   PHI  2014  RB   25     2     No           304.6   \n",
       "3     4        Dez Bryant   DAL  2014  WR   25     1     No           245.9   \n",
       "4     5  Demaryius Thomas   DEN  2014  WR   26     1     No           273.0   \n",
       "\n",
       "   ADP  Rd_drafted  #1  #2  #3  #4  #5  #6  \n",
       "0  2.5           1   4   3   1   4   2   1  \n",
       "1  2.7           1   2   6   2   2   1   3  \n",
       "2  2.8           1   1   1   4   1   5   5  \n",
       "3  4.5           1   6   7   6   3   3   2  \n",
       "4  5.5           1   5   5   3   5   8   7  "
      ]
     },
     "execution_count": 131,
     "metadata": {},
     "output_type": "execute_result"
    }
   ],
   "source": [
    "dynasty.head()"
   ]
  },
  {
   "cell_type": "code",
   "execution_count": 3,
   "metadata": {},
   "outputs": [
    {
     "data": {
      "text/plain": [
       "<bound method DataFrame.info of       Rank                 Player  Team  Year Pos  AGE      Round Rookie  \\\n",
       "0        1               AJ Green   CIN  2014  WR   25          1     No   \n",
       "1        2         Calvin Johnson   DET  2014  WR   28          1     No   \n",
       "2        3           LeSean McCoy   PHI  2014  RB   25          2     No   \n",
       "3        4             Dez Bryant   DAL  2014  WR   25          1     No   \n",
       "4        5       Demaryius Thomas   DEN  2014  WR   26          1     No   \n",
       "...    ...                    ...   ...   ...  ..  ...        ...    ...   \n",
       "1856   274          Jalen Richard   LVR  2020  RB   26  Undrafted     No   \n",
       "1857   275         Kahale Warring   HOU  2020  TE   23          3     No   \n",
       "1858   276  Equanimeous St. Brown   GBP  2020  WR   23          6     No   \n",
       "1859   277             Dan Arnold   ARI  2020  TE   25  Undrafted     No   \n",
       "1860   278            Josh Gordon   SEA  2020  WR   29          2     No   \n",
       "\n",
       "      Fantasy Points     ADP   #1   #2   #3   #4   #5   #6  \n",
       "0              257.6    2.50    4    3    1    4    2    1  \n",
       "1              261.2    2.70    2    6    2    2    1    3  \n",
       "2              304.6    2.80    1    1    4    1    5    5  \n",
       "3              245.9    4.50    6    7    6    3    3    2  \n",
       "4              273.0    5.50    5    5    3    5    8    7  \n",
       "...              ...     ...  ...  ...  ...  ...  ...  ...  \n",
       "1856            64.8  240.17  241  241  241  241  241  236  \n",
       "1857             0.0  240.17  241  236  241  241  241  241  \n",
       "1858             0.0  240.33  241  241  241  241  237  241  \n",
       "1859            28.7  240.50  241  241  238  241  241  241  \n",
       "1860            60.2  240.67  241  241  241  241  239  241  \n",
       "\n",
       "[1861 rows x 16 columns]>"
      ]
     },
     "execution_count": 3,
     "metadata": {},
     "output_type": "execute_result"
    }
   ],
   "source": [
    "dynasty.info"
   ]
  },
  {
   "cell_type": "code",
   "execution_count": 4,
   "metadata": {},
   "outputs": [
    {
     "data": {
      "text/plain": [
       "(1861, 16)"
      ]
     },
     "execution_count": 4,
     "metadata": {},
     "output_type": "execute_result"
    }
   ],
   "source": [
    "dynasty.shape"
   ]
  },
  {
   "cell_type": "code",
   "execution_count": 5,
   "metadata": {},
   "outputs": [
    {
     "data": {
      "text/html": [
       "<div>\n",
       "<style scoped>\n",
       "    .dataframe tbody tr th:only-of-type {\n",
       "        vertical-align: middle;\n",
       "    }\n",
       "\n",
       "    .dataframe tbody tr th {\n",
       "        vertical-align: top;\n",
       "    }\n",
       "\n",
       "    .dataframe thead th {\n",
       "        text-align: right;\n",
       "    }\n",
       "</style>\n",
       "<table border=\"1\" class=\"dataframe\">\n",
       "  <thead>\n",
       "    <tr style=\"text-align: right;\">\n",
       "      <th></th>\n",
       "      <th>Rank</th>\n",
       "      <th>Year</th>\n",
       "      <th>AGE</th>\n",
       "      <th>Fantasy Points</th>\n",
       "      <th>ADP</th>\n",
       "      <th>#1</th>\n",
       "      <th>#2</th>\n",
       "      <th>#3</th>\n",
       "      <th>#4</th>\n",
       "      <th>#5</th>\n",
       "      <th>#6</th>\n",
       "    </tr>\n",
       "  </thead>\n",
       "  <tbody>\n",
       "    <tr>\n",
       "      <th>count</th>\n",
       "      <td>1861.000000</td>\n",
       "      <td>1861.000000</td>\n",
       "      <td>1861.000000</td>\n",
       "      <td>1861.000000</td>\n",
       "      <td>1861.000000</td>\n",
       "      <td>1861.000000</td>\n",
       "      <td>1861.000000</td>\n",
       "      <td>1861.000000</td>\n",
       "      <td>1861.000000</td>\n",
       "      <td>1861.000000</td>\n",
       "      <td>1861.000000</td>\n",
       "    </tr>\n",
       "    <tr>\n",
       "      <th>mean</th>\n",
       "      <td>133.649113</td>\n",
       "      <td>2017.076303</td>\n",
       "      <td>25.372918</td>\n",
       "      <td>105.827007</td>\n",
       "      <td>132.900161</td>\n",
       "      <td>132.873186</td>\n",
       "      <td>132.824288</td>\n",
       "      <td>132.974207</td>\n",
       "      <td>132.853842</td>\n",
       "      <td>132.957012</td>\n",
       "      <td>132.909189</td>\n",
       "    </tr>\n",
       "    <tr>\n",
       "      <th>std</th>\n",
       "      <td>77.144996</td>\n",
       "      <td>1.995312</td>\n",
       "      <td>3.696932</td>\n",
       "      <td>91.396768</td>\n",
       "      <td>74.252769</td>\n",
       "      <td>75.646127</td>\n",
       "      <td>75.547662</td>\n",
       "      <td>75.734613</td>\n",
       "      <td>75.612795</td>\n",
       "      <td>75.716664</td>\n",
       "      <td>75.640923</td>\n",
       "    </tr>\n",
       "    <tr>\n",
       "      <th>min</th>\n",
       "      <td>1.000000</td>\n",
       "      <td>2014.000000</td>\n",
       "      <td>0.000000</td>\n",
       "      <td>-2.300000</td>\n",
       "      <td>1.170000</td>\n",
       "      <td>1.000000</td>\n",
       "      <td>1.000000</td>\n",
       "      <td>1.000000</td>\n",
       "      <td>1.000000</td>\n",
       "      <td>1.000000</td>\n",
       "      <td>1.000000</td>\n",
       "    </tr>\n",
       "    <tr>\n",
       "      <th>25%</th>\n",
       "      <td>67.000000</td>\n",
       "      <td>2015.000000</td>\n",
       "      <td>23.000000</td>\n",
       "      <td>11.100000</td>\n",
       "      <td>69.170000</td>\n",
       "      <td>67.000000</td>\n",
       "      <td>67.000000</td>\n",
       "      <td>67.000000</td>\n",
       "      <td>67.000000</td>\n",
       "      <td>67.000000</td>\n",
       "      <td>67.000000</td>\n",
       "    </tr>\n",
       "    <tr>\n",
       "      <th>50%</th>\n",
       "      <td>133.000000</td>\n",
       "      <td>2017.000000</td>\n",
       "      <td>25.000000</td>\n",
       "      <td>98.300000</td>\n",
       "      <td>134.830000</td>\n",
       "      <td>133.000000</td>\n",
       "      <td>133.000000</td>\n",
       "      <td>134.000000</td>\n",
       "      <td>133.000000</td>\n",
       "      <td>133.000000</td>\n",
       "      <td>133.000000</td>\n",
       "    </tr>\n",
       "    <tr>\n",
       "      <th>75%</th>\n",
       "      <td>200.000000</td>\n",
       "      <td>2019.000000</td>\n",
       "      <td>27.000000</td>\n",
       "      <td>166.700000</td>\n",
       "      <td>202.830000</td>\n",
       "      <td>202.000000</td>\n",
       "      <td>201.000000</td>\n",
       "      <td>202.000000</td>\n",
       "      <td>201.000000</td>\n",
       "      <td>202.000000</td>\n",
       "      <td>202.000000</td>\n",
       "    </tr>\n",
       "    <tr>\n",
       "      <th>max</th>\n",
       "      <td>278.000000</td>\n",
       "      <td>2020.000000</td>\n",
       "      <td>42.000000</td>\n",
       "      <td>415.680000</td>\n",
       "      <td>240.830000</td>\n",
       "      <td>241.000000</td>\n",
       "      <td>241.000000</td>\n",
       "      <td>241.000000</td>\n",
       "      <td>241.000000</td>\n",
       "      <td>241.000000</td>\n",
       "      <td>241.000000</td>\n",
       "    </tr>\n",
       "  </tbody>\n",
       "</table>\n",
       "</div>"
      ],
      "text/plain": [
       "              Rank         Year          AGE  Fantasy Points          ADP  \\\n",
       "count  1861.000000  1861.000000  1861.000000     1861.000000  1861.000000   \n",
       "mean    133.649113  2017.076303    25.372918      105.827007   132.900161   \n",
       "std      77.144996     1.995312     3.696932       91.396768    74.252769   \n",
       "min       1.000000  2014.000000     0.000000       -2.300000     1.170000   \n",
       "25%      67.000000  2015.000000    23.000000       11.100000    69.170000   \n",
       "50%     133.000000  2017.000000    25.000000       98.300000   134.830000   \n",
       "75%     200.000000  2019.000000    27.000000      166.700000   202.830000   \n",
       "max     278.000000  2020.000000    42.000000      415.680000   240.830000   \n",
       "\n",
       "                #1           #2           #3           #4           #5  \\\n",
       "count  1861.000000  1861.000000  1861.000000  1861.000000  1861.000000   \n",
       "mean    132.873186   132.824288   132.974207   132.853842   132.957012   \n",
       "std      75.646127    75.547662    75.734613    75.612795    75.716664   \n",
       "min       1.000000     1.000000     1.000000     1.000000     1.000000   \n",
       "25%      67.000000    67.000000    67.000000    67.000000    67.000000   \n",
       "50%     133.000000   133.000000   134.000000   133.000000   133.000000   \n",
       "75%     202.000000   201.000000   202.000000   201.000000   202.000000   \n",
       "max     241.000000   241.000000   241.000000   241.000000   241.000000   \n",
       "\n",
       "                #6  \n",
       "count  1861.000000  \n",
       "mean    132.909189  \n",
       "std      75.640923  \n",
       "min       1.000000  \n",
       "25%      67.000000  \n",
       "50%     133.000000  \n",
       "75%     202.000000  \n",
       "max     241.000000  "
      ]
     },
     "execution_count": 5,
     "metadata": {},
     "output_type": "execute_result"
    }
   ],
   "source": [
    "dynasty.describe()"
   ]
  },
  {
   "cell_type": "code",
   "execution_count": 2,
   "metadata": {},
   "outputs": [
    {
     "data": {
      "text/plain": [
       "Rank                int64\n",
       "Player             object\n",
       "Team               object\n",
       "Year                int64\n",
       "Pos                object\n",
       "AGE                 int64\n",
       "Round              object\n",
       "Rookie             object\n",
       "Fantasy Points    float64\n",
       "ADP               float64\n",
       "#1                  int64\n",
       "#2                  int64\n",
       "#3                  int64\n",
       "#4                  int64\n",
       "#5                  int64\n",
       "#6                  int64\n",
       "dtype: object"
      ]
     },
     "execution_count": 2,
     "metadata": {},
     "output_type": "execute_result"
    }
   ],
   "source": [
    "dynasty.dtypes"
   ]
  },
  {
   "cell_type": "code",
   "execution_count": 8,
   "metadata": {},
   "outputs": [
    {
     "data": {
      "text/plain": [
       "No     1524\n",
       "Yes     336\n",
       "Name: Rookie, dtype: int64"
      ]
     },
     "execution_count": 8,
     "metadata": {},
     "output_type": "execute_result"
    }
   ],
   "source": [
    "dynasty['Rookie'].value_counts()"
   ]
  },
  {
   "cell_type": "code",
   "execution_count": 9,
   "metadata": {},
   "outputs": [
    {
     "data": {
      "text/plain": [
       "Series([], Name: Rookie, dtype: bool)"
      ]
     },
     "execution_count": 9,
     "metadata": {},
     "output_type": "execute_result"
    }
   ],
   "source": [
    "dynasty['Rookie'][dynasty['Rookie']=='N0']=='No'"
   ]
  },
  {
   "cell_type": "code",
   "execution_count": 10,
   "metadata": {},
   "outputs": [
    {
     "data": {
      "text/plain": [
       "Series([], Name: Rookie, dtype: object)"
      ]
     },
     "execution_count": 10,
     "metadata": {},
     "output_type": "execute_result"
    }
   ],
   "source": [
    "dynasty['Rookie'][dynasty['Rookie']=='Ni']"
   ]
  },
  {
   "cell_type": "code",
   "execution_count": 11,
   "metadata": {},
   "outputs": [
    {
     "data": {
      "text/plain": [
       "Series([], Name: Rookie, dtype: object)"
      ]
     },
     "execution_count": 11,
     "metadata": {},
     "output_type": "execute_result"
    }
   ],
   "source": [
    "dynasty['Rookie'][dynasty['Rookie']=='yes']"
   ]
  },
  {
   "cell_type": "code",
   "execution_count": 12,
   "metadata": {},
   "outputs": [],
   "source": [
    "dynasty.at[908,'Rookie']='No'\n",
    "dynasty.at[948,'Rookie']='No'\n",
    "dynasty.at[1252,'Rookie']='Yes'"
   ]
  },
  {
   "cell_type": "code",
   "execution_count": 11,
   "metadata": {},
   "outputs": [
    {
     "data": {
      "text/plain": [
       "No     1524\n",
       "Yes     336\n",
       "Name: Rookie, dtype: int64"
      ]
     },
     "execution_count": 11,
     "metadata": {},
     "output_type": "execute_result"
    }
   ],
   "source": [
    "dynasty['Rookie'].value_counts()"
   ]
  },
  {
   "cell_type": "code",
   "execution_count": 2,
   "metadata": {},
   "outputs": [
    {
     "data": {
      "text/plain": [
       "1.0    1525\n",
       "0.0     336\n",
       "Name: Rookie, dtype: int64"
      ]
     },
     "execution_count": 2,
     "metadata": {},
     "output_type": "execute_result"
    }
   ],
   "source": [
    "#Makes Rookies into categorical 1=Vet, 0=Rookie\n",
    "from sklearn.preprocessing import OneHotEncoder\n",
    "ohe=OneHotEncoder(sparse=False)\n",
    "\n",
    "dynasty['Rookie']=ohe.fit_transform(dynasty[['Rookie']])\n",
    " \n",
    "dynasty[dynasty['Rookie']==1]\n",
    "\n",
    "dynasty['Rookie'].value_counts()\n"
   ]
  },
  {
   "cell_type": "code",
   "execution_count": 20,
   "metadata": {},
   "outputs": [
    {
     "data": {
      "text/plain": [
       "Rank              0\n",
       "Player            0\n",
       "Team              4\n",
       "Year              0\n",
       "Pos               0\n",
       "AGE               0\n",
       "Round             0\n",
       "Rookie            0\n",
       "Fantasy Points    0\n",
       "ADP               0\n",
       "#1                0\n",
       "#2                0\n",
       "#3                0\n",
       "#4                0\n",
       "#5                0\n",
       "#6                0\n",
       "dtype: int64"
      ]
     },
     "execution_count": 20,
     "metadata": {},
     "output_type": "execute_result"
    }
   ],
   "source": [
    "dynasty.isna().sum()"
   ]
  },
  {
   "cell_type": "code",
   "execution_count": 49,
   "metadata": {},
   "outputs": [
    {
     "data": {
      "image/png": "[encoded data removed]",
      "text/plain": [
       "<Figure size 432x288 with 1 Axes>"
      ]
     },
     "metadata": {
      "needs_background": "light"
     },
     "output_type": "display_data"
    }
   ],
   "source": [
    "#Plots ADP vs Fanatsy point to visualize any correlation\n",
    "from sklearn.linear_model import LinearRegression\n",
    "lm=LinearRegression()\n",
    "\n",
    "ADP=dynasty.iloc[:,9]\n",
    "Fantasy_Points=dynasty.iloc[:,8]\n",
    "ADP=ADP.values.reshape(-1,1)\n",
    "Fantasy_Points=Fantasy_Points.values.reshape(-1,1)\n",
    "lm.fit(ADP,Fantasy_Points)\n",
    "\n",
    "Fantasy_Pred=lm.predict(ADP)\n",
    "\n",
    "plt.scatter(ADP,Fantasy_Points)\n",
    "plt.plot(ADP,Fantasy_Pred,color='red')\n",
    "plt.xlabel('ADP')\n",
    "plt.ylabel('Fantasy_Points')\n",
    "plt.title('ADP vs Fantasy Points')\n",
    "plt.show()\n",
    "\n",
    "\n",
    "\n"
   ]
  },
  {
   "cell_type": "code",
   "execution_count": 98,
   "metadata": {},
   "outputs": [
    {
     "data": {
      "text/plain": [
       "Text(0.5, 1, 'ADP vs Fantasy Points')"
      ]
     },
     "execution_count": 98,
     "metadata": {},
     "output_type": "execute_result"
    },
    {
     "data": {
      "image/png": "[encoded data removed]",
      "text/plain": [
       "<Figure size 402.375x360 with 1 Axes>"
      ]
     },
     "metadata": {
      "needs_background": "light"
     },
     "output_type": "display_data"
    }
   ],
   "source": [
    "import seaborn as sns\n",
    "#Plots adp vs fantasy point by position\n",
    "sns.lmplot(x='ADP',y='Fantasy Points',hue='Pos',data=dynasty)\n",
    "plt.title('ADP vs Fantasy Points')"
   ]
  },
  {
   "cell_type": "code",
   "execution_count": 99,
   "metadata": {},
   "outputs": [
    {
     "data": {
      "text/plain": [
       "Text(0.5, 1, 'AGE vs ADP')"
      ]
     },
     "execution_count": 99,
     "metadata": {},
     "output_type": "execute_result"
    },
    {
     "data": {
      "image/png": "[encoded data removed]",
      "text/plain": [
       "<Figure size 360x360 with 1 Axes>"
      ]
     },
     "metadata": {
      "needs_background": "light"
     },
     "output_type": "display_data"
    }
   ],
   "source": [
    "#Plots Age vs ADP to visualize any correlation\n",
    "sns.lmplot(x='AGE',y='ADP',data=dynasty)\n",
    "plt.title('AGE vs ADP')"
   ]
  },
  {
   "cell_type": "code",
   "execution_count": 239,
   "metadata": {},
   "outputs": [
    {
     "data": {
      "text/plain": [
       "Round  Pos\n",
       "0      0      220.623511\n",
       "       1      162.436410\n",
       "       2       94.267568\n",
       "       3      138.091304\n",
       "1      0      211.086000\n",
       "       1      137.642439\n",
       "       2       93.535088\n",
       "       3      125.315270\n",
       "2      0      238.801818\n",
       "       1      129.237922\n",
       "       2       99.332727\n",
       "       3      119.336346\n",
       "3      0      231.814545\n",
       "       1      103.625429\n",
       "       2       74.030435\n",
       "       3       84.797209\n",
       "4      1       99.153846\n",
       "       2       84.280000\n",
       "       3      113.485128\n",
       "5      0      227.116667\n",
       "       1       97.521212\n",
       "       2       96.800000\n",
       "       3      134.582857\n",
       "6      0        0.000000\n",
       "       1       99.588889\n",
       "       2       16.700000\n",
       "       3       55.320000\n",
       "7      0      200.440000\n",
       "       1      101.583544\n",
       "       2       85.512000\n",
       "       3      101.024255\n",
       "Name: Fantasy Points, dtype: float64"
      ]
     },
     "execution_count": 239,
     "metadata": {},
     "output_type": "execute_result"
    }
   ],
   "source": [
    "#Removes Rookies from data set\n",
    "vets=dynasty[dynasty['Rookie']==1]\n",
    "vets.groupby(['Round','Pos'])['Fantasy Points'].mean()\n",
    "\n"
   ]
  },
  {
   "cell_type": "code",
   "execution_count": 240,
   "metadata": {},
   "outputs": [],
   "source": [
    "#Gets average points by round by position\n",
    "avg_points=pd.DataFrame(vets.groupby(['Pos','Rd_drafted'])['Fantasy Points'].mean())\n",
    "\n",
    "avg_points.reset_index()\n",
    "\n",
    "avg_points.to_csv('AveragePoints_Round.csv')"
   ]
  },
  {
   "cell_type": "code",
   "execution_count": 5,
   "metadata": {},
   "outputs": [
    {
     "data": {
      "text/plain": [
       "Pos\n",
       "QB    144.946300\n",
       "RB    127.361242\n",
       "TE    151.758860\n",
       "WR    120.823333\n",
       "Name: ADP, dtype: float64"
      ]
     },
     "execution_count": 5,
     "metadata": {},
     "output_type": "execute_result"
    }
   ],
   "source": [
    "dynasty[dynasty['Rookie']==1.0].groupby(['Pos'])['ADP'].mean()"
   ]
  },
  {
   "cell_type": "code",
   "execution_count": 3,
   "metadata": {},
   "outputs": [
    {
     "data": {
      "text/plain": [
       "WR    777\n",
       "RB    588\n",
       "TE    267\n",
       "QB    229\n",
       "Name: Pos, dtype: int64"
      ]
     },
     "execution_count": 3,
     "metadata": {},
     "output_type": "execute_result"
    }
   ],
   "source": [
    "dynasty_2=dynasty.loc[:,['Player','Year','Pos','AGE','Round','Rookie','Fantasy Points','ADP']]\n",
    "\n",
    "dynasty_2['Pos'].value_counts()"
   ]
  },
  {
   "cell_type": "code",
   "execution_count": 4,
   "metadata": {},
   "outputs": [
    {
     "data": {
      "text/html": [
       "<div>\n",
       "<style scoped>\n",
       "    .dataframe tbody tr th:only-of-type {\n",
       "        vertical-align: middle;\n",
       "    }\n",
       "\n",
       "    .dataframe tbody tr th {\n",
       "        vertical-align: top;\n",
       "    }\n",
       "\n",
       "    .dataframe thead th {\n",
       "        text-align: right;\n",
       "    }\n",
       "</style>\n",
       "<table border=\"1\" class=\"dataframe\">\n",
       "  <thead>\n",
       "    <tr style=\"text-align: right;\">\n",
       "      <th></th>\n",
       "      <th>min</th>\n",
       "      <th>max</th>\n",
       "      <th>mean</th>\n",
       "      <th>std</th>\n",
       "    </tr>\n",
       "    <tr>\n",
       "      <th>Player</th>\n",
       "      <th></th>\n",
       "      <th></th>\n",
       "      <th></th>\n",
       "      <th></th>\n",
       "    </tr>\n",
       "  </thead>\n",
       "  <tbody>\n",
       "    <tr>\n",
       "      <th>AJ Brown</th>\n",
       "      <td>0.00</td>\n",
       "      <td>191.10</td>\n",
       "      <td>95.550000</td>\n",
       "      <td>135.128106</td>\n",
       "    </tr>\n",
       "    <tr>\n",
       "      <th>AJ Green</th>\n",
       "      <td>0.00</td>\n",
       "      <td>189.30</td>\n",
       "      <td>105.233333</td>\n",
       "      <td>96.408731</td>\n",
       "    </tr>\n",
       "    <tr>\n",
       "      <th>Aaron Jones</th>\n",
       "      <td>75.50</td>\n",
       "      <td>290.30</td>\n",
       "      <td>174.733333</td>\n",
       "      <td>108.327482</td>\n",
       "    </tr>\n",
       "    <tr>\n",
       "      <th>Aaron Rodgers</th>\n",
       "      <td>129.60</td>\n",
       "      <td>306.58</td>\n",
       "      <td>236.186667</td>\n",
       "      <td>93.877304</td>\n",
       "    </tr>\n",
       "    <tr>\n",
       "      <th>Adam Thielen</th>\n",
       "      <td>99.40</td>\n",
       "      <td>248.80</td>\n",
       "      <td>180.800000</td>\n",
       "      <td>75.596032</td>\n",
       "    </tr>\n",
       "    <tr>\n",
       "      <th>...</th>\n",
       "      <td>...</td>\n",
       "      <td>...</td>\n",
       "      <td>...</td>\n",
       "      <td>...</td>\n",
       "    </tr>\n",
       "    <tr>\n",
       "      <th>Tyrod Taylor</th>\n",
       "      <td>6.02</td>\n",
       "      <td>222.66</td>\n",
       "      <td>114.340000</td>\n",
       "      <td>153.187613</td>\n",
       "    </tr>\n",
       "    <tr>\n",
       "      <th>Vance McDonald</th>\n",
       "      <td>31.80</td>\n",
       "      <td>108.00</td>\n",
       "      <td>69.900000</td>\n",
       "      <td>53.881537</td>\n",
       "    </tr>\n",
       "    <tr>\n",
       "      <th>Will Fuller</th>\n",
       "      <td>90.30</td>\n",
       "      <td>109.50</td>\n",
       "      <td>99.666667</td>\n",
       "      <td>9.608503</td>\n",
       "    </tr>\n",
       "    <tr>\n",
       "      <th>Zach Ertz</th>\n",
       "      <td>165.40</td>\n",
       "      <td>222.30</td>\n",
       "      <td>185.766667</td>\n",
       "      <td>31.708411</td>\n",
       "    </tr>\n",
       "    <tr>\n",
       "      <th>Zay Jones</th>\n",
       "      <td>57.10</td>\n",
       "      <td>135.20</td>\n",
       "      <td>96.150000</td>\n",
       "      <td>55.225040</td>\n",
       "    </tr>\n",
       "  </tbody>\n",
       "</table>\n",
       "<p>252 rows × 4 columns</p>\n",
       "</div>"
      ],
      "text/plain": [
       "                   min     max        mean         std\n",
       "Player                                                \n",
       "AJ Brown          0.00  191.10   95.550000  135.128106\n",
       "AJ Green          0.00  189.30  105.233333   96.408731\n",
       "Aaron Jones      75.50  290.30  174.733333  108.327482\n",
       "Aaron Rodgers   129.60  306.58  236.186667   93.877304\n",
       "Adam Thielen     99.40  248.80  180.800000   75.596032\n",
       "...                ...     ...         ...         ...\n",
       "Tyrod Taylor      6.02  222.66  114.340000  153.187613\n",
       "Vance McDonald   31.80  108.00   69.900000   53.881537\n",
       "Will Fuller      90.30  109.50   99.666667    9.608503\n",
       "Zach Ertz       165.40  222.30  185.766667   31.708411\n",
       "Zay Jones        57.10  135.20   96.150000   55.225040\n",
       "\n",
       "[252 rows x 4 columns]"
      ]
     },
     "execution_count": 4,
     "metadata": {},
     "output_type": "execute_result"
    }
   ],
   "source": [
    "#Filters out past three years to run simulation\n",
    "Year=[2018,2019,2020]\n",
    "\n",
    "filter_dynasty=dynasty_2[dynasty_2.Year.isin(Year)]\n",
    "\n",
    "stat_df=filter_dynasty.groupby('Player')['Fantasy Points'].agg(['min','max','mean','std']).dropna()\n",
    "\n",
    "stat_df\n"
   ]
  },
  {
   "cell_type": "code",
   "execution_count": 4,
   "metadata": {},
   "outputs": [
    {
     "data": {
      "text/plain": [
       "35.099999999999994"
      ]
     },
     "execution_count": 4,
     "metadata": {},
     "output_type": "execute_result"
    }
   ],
   "source": [
    "#test the random funtion\n",
    "import random\n",
    "from random import seed\n",
    "\n",
    "95+np.random.normal(0,135)\n",
    "\n",
    "save=np.random.normal(95,135,1000)\n",
    "\n",
    "np.count_nonzero(save>=150)/1000*100\n",
    "\n",
    "   \n"
   ]
  },
  {
   "cell_type": "code",
   "execution_count": 7,
   "metadata": {},
   "outputs": [],
   "source": [
    "#Runs simulation and counts number of times a threshold is met\n",
    "a=[]\n",
    "\n",
    "seed(42)\n",
    "\n",
    "for i, row in stat_df.iterrows():\n",
    "    sim=np.random.normal(row[2],row[3],10000)\n",
    "    count=np.count_nonzero(sim>150)/10000*100\n",
    "    a.append(count)\n",
    "a\n",
    "\n",
    "stat_df['%>150']=a\n",
    "    "
   ]
  },
  {
   "cell_type": "code",
   "execution_count": 8,
   "metadata": {},
   "outputs": [],
   "source": [
    "#Runs simulation and counts number of times a threshold is met\n",
    "b=[]\n",
    "\n",
    "for i, row in stat_df.iterrows():\n",
    "    sim=np.random.normal(row[2],row[3],10000)\n",
    "    count=np.count_nonzero(sim>200)/10000*100\n",
    "    b.append(count)\n",
    "    \n",
    "stat_df['%>200']=b"
   ]
  },
  {
   "cell_type": "code",
   "execution_count": 9,
   "metadata": {},
   "outputs": [],
   "source": [
    "#Runs simulation and counts number of times a threshold is met\n",
    "c=[]\n",
    "\n",
    "for i, row in stat_df.iterrows():\n",
    "    sim=np.random.normal(row[2],row[3],10000)\n",
    "    count=np.count_nonzero(sim>250)/10000*100\n",
    "    c.append(count)\n",
    "    \n",
    "stat_df['%>250']=c"
   ]
  },
  {
   "cell_type": "code",
   "execution_count": 10,
   "metadata": {},
   "outputs": [],
   "source": [
    "#Runs simulation and counts number of times a threshold is met\n",
    "d=[]\n",
    "\n",
    "for i, row in stat_df.iterrows():\n",
    "    sim=np.random.normal(row[2],row[3],10000)\n",
    "    count=np.count_nonzero(sim>300)/10000*100\n",
    "    d.append(count)\n",
    "    \n",
    "stat_df['%>300']=d"
   ]
  },
  {
   "cell_type": "code",
   "execution_count": 11,
   "metadata": {},
   "outputs": [],
   "source": [
    "#Runs simulation and counts number of times a threshold is met\n",
    "e=[]\n",
    "\n",
    "for i, row in stat_df.iterrows():\n",
    "    sim=np.random.normal(row[2],row[3],10000)\n",
    "    count=np.count_nonzero(sim>350)/10000*100\n",
    "    e.append(count)\n",
    "    \n",
    "stat_df['%>350']=e"
   ]
  },
  {
   "cell_type": "code",
   "execution_count": 108,
   "metadata": {},
   "outputs": [],
   "source": [
    "stat_df.to_csv('Player Simulation.csv')"
   ]
  },
  {
   "cell_type": "code",
   "execution_count": 23,
   "metadata": {},
   "outputs": [
    {
     "data": {
      "text/plain": [
       "pandas.core.frame.DataFrame"
      ]
     },
     "execution_count": 23,
     "metadata": {},
     "output_type": "execute_result"
    }
   ],
   "source": [
    "dynasty['Pos'].value_counts()\n",
    "\n",
    "type(dynasty)"
   ]
  },
  {
   "cell_type": "code",
   "execution_count": 3,
   "metadata": {},
   "outputs": [
    {
     "data": {
      "text/plain": [
       "3    777\n",
       "1    588\n",
       "2    267\n",
       "0    229\n",
       "Name: Pos, dtype: int64"
      ]
     },
     "execution_count": 3,
     "metadata": {},
     "output_type": "execute_result"
    }
   ],
   "source": [
    "#Encodes positions to a numeric value. 0=QB,1=RB,2=TE,3=WR\n",
    "from sklearn.preprocessing import LabelEncoder\n",
    "\n",
    "encode=LabelEncoder()\n",
    "\n",
    "dynasty['Pos']=encode.fit_transform(dynasty['Pos'])\n",
    "\n",
    "dynasty['Pos'].value_counts()"
   ]
  },
  {
   "cell_type": "code",
   "execution_count": 32,
   "metadata": {},
   "outputs": [
    {
     "data": {
      "text/plain": [
       "1            474\n",
       "2            387\n",
       "3            311\n",
       "Undrafted    215\n",
       "4            202\n",
       "5            122\n",
       "6            105\n",
       "7             45\n",
       "Name: Round, dtype: int64"
      ]
     },
     "execution_count": 32,
     "metadata": {},
     "output_type": "execute_result"
    }
   ],
   "source": [
    "dynasty['Round'].value_counts()"
   ]
  },
  {
   "cell_type": "code",
   "execution_count": 4,
   "metadata": {
    "scrolled": true
   },
   "outputs": [
    {
     "data": {
      "text/plain": [
       "0    474\n",
       "1    387\n",
       "2    311\n",
       "7    215\n",
       "3    202\n",
       "4    122\n",
       "5    105\n",
       "6     45\n",
       "Name: Round, dtype: int64"
      ]
     },
     "execution_count": 4,
     "metadata": {},
     "output_type": "execute_result"
    }
   ],
   "source": [
    "#Encodes the round 0=1,1=2,2=3,3=4,4=5,5=6,6=7,7=undrafted\n",
    "dynasty['Round']=encode.fit_transform(dynasty['Round'])\n",
    "\n",
    "dynasty['Round'].value_counts()"
   ]
  },
  {
   "cell_type": "code",
   "execution_count": 5,
   "metadata": {},
   "outputs": [],
   "source": [
    "#performs a linear regression on model that has been scaled between 0 and 1\n",
    "from sklearn.linear_model import LinearRegression\n",
    "from sklearn.metrics import mean_squared_error\n",
    "from sklearn.preprocessing import MinMaxScaler\n",
    "from sklearn.model_selection import train_test_split,RandomizedSearchCV,cross_val_score\n",
    "\n",
    "min_max=MinMaxScaler()\n",
    "\n",
    "dynasty_to_scale=dynasty[['Pos','AGE','Round','Rookie','Fantasy Points']]\n",
    "\n",
    "target=dynasty[['ADP']]\n",
    "\n",
    "dynasty_to_scale=min_max.fit_transform(dynasty_to_scale)\n",
    "lm=LinearRegression()\n",
    "\n",
    "X_train,X_test,Y_train,Y_test=train_test_split(dynasty_to_scale,target, test_size=.2, random_state=123)\n",
    "\n",
    "lm.fit(X_train,Y_train)\n",
    "lm_predict=lm.predict(X_test)\n",
    "\n"
   ]
  },
  {
   "cell_type": "code",
   "execution_count": 31,
   "metadata": {},
   "outputs": [
    {
     "data": {
      "text/plain": [
       "0.4029149808582497"
      ]
     },
     "execution_count": 31,
     "metadata": {},
     "output_type": "execute_result"
    }
   ],
   "source": [
    "#Cross val score\n",
    "cross_val_score(lm,X_train,Y_train,cv=10).mean()"
   ]
  },
  {
   "cell_type": "code",
   "execution_count": 35,
   "metadata": {},
   "outputs": [
    {
     "name": "stdout",
     "output_type": "stream",
     "text": [
      "Root Mean Error: 55.275068274950094\n"
     ]
    }
   ],
   "source": [
    "lm_mse=mean_squared_error(Y_test,lm_predict)\n",
    "\n",
    "print('Root Mean Error:',np.sqrt(lm_mse))"
   ]
  },
  {
   "cell_type": "code",
   "execution_count": 48,
   "metadata": {},
   "outputs": [
    {
     "name": "stdout",
     "output_type": "stream",
     "text": [
      "R^2 Score: 0.41274293714361554\n"
     ]
    }
   ],
   "source": [
    "print('R^2 Score:',lm.score(X_train,Y_train))"
   ]
  },
  {
   "cell_type": "code",
   "execution_count": 46,
   "metadata": {},
   "outputs": [
    {
     "data": {
      "text/html": [
       "<div>\n",
       "<style scoped>\n",
       "    .dataframe tbody tr th:only-of-type {\n",
       "        vertical-align: middle;\n",
       "    }\n",
       "\n",
       "    .dataframe tbody tr th {\n",
       "        vertical-align: top;\n",
       "    }\n",
       "\n",
       "    .dataframe thead th {\n",
       "        text-align: right;\n",
       "    }\n",
       "</style>\n",
       "<table border=\"1\" class=\"dataframe\">\n",
       "  <thead>\n",
       "    <tr style=\"text-align: right;\">\n",
       "      <th></th>\n",
       "      <th>Actual ADP</th>\n",
       "      <th>Predicted ADP</th>\n",
       "    </tr>\n",
       "  </thead>\n",
       "  <tbody>\n",
       "    <tr>\n",
       "      <th>0</th>\n",
       "      <td>[221.83]</td>\n",
       "      <td>[128.74964420203898]</td>\n",
       "    </tr>\n",
       "    <tr>\n",
       "      <th>1</th>\n",
       "      <td>[211.67]</td>\n",
       "      <td>[298.19073289431424]</td>\n",
       "    </tr>\n",
       "    <tr>\n",
       "      <th>2</th>\n",
       "      <td>[50.5]</td>\n",
       "      <td>[128.12212538192313]</td>\n",
       "    </tr>\n",
       "    <tr>\n",
       "      <th>3</th>\n",
       "      <td>[54.33]</td>\n",
       "      <td>[81.50581733777051]</td>\n",
       "    </tr>\n",
       "    <tr>\n",
       "      <th>4</th>\n",
       "      <td>[185.33]</td>\n",
       "      <td>[115.95049553505824]</td>\n",
       "    </tr>\n",
       "    <tr>\n",
       "      <th>...</th>\n",
       "      <td>...</td>\n",
       "      <td>...</td>\n",
       "    </tr>\n",
       "    <tr>\n",
       "      <th>368</th>\n",
       "      <td>[230.17]</td>\n",
       "      <td>[223.76886352916415]</td>\n",
       "    </tr>\n",
       "    <tr>\n",
       "      <th>369</th>\n",
       "      <td>[231.33]</td>\n",
       "      <td>[157.58248524116573]</td>\n",
       "    </tr>\n",
       "    <tr>\n",
       "      <th>370</th>\n",
       "      <td>[189.17]</td>\n",
       "      <td>[144.51231128126364]</td>\n",
       "    </tr>\n",
       "    <tr>\n",
       "      <th>371</th>\n",
       "      <td>[104.83]</td>\n",
       "      <td>[173.65166473084912]</td>\n",
       "    </tr>\n",
       "    <tr>\n",
       "      <th>372</th>\n",
       "      <td>[237.83]</td>\n",
       "      <td>[259.62983269830573]</td>\n",
       "    </tr>\n",
       "  </tbody>\n",
       "</table>\n",
       "<p>373 rows × 2 columns</p>\n",
       "</div>"
      ],
      "text/plain": [
       "    Actual ADP         Predicted ADP\n",
       "0     [221.83]  [128.74964420203898]\n",
       "1     [211.67]  [298.19073289431424]\n",
       "2       [50.5]  [128.12212538192313]\n",
       "3      [54.33]   [81.50581733777051]\n",
       "4     [185.33]  [115.95049553505824]\n",
       "..         ...                   ...\n",
       "368   [230.17]  [223.76886352916415]\n",
       "369   [231.33]  [157.58248524116573]\n",
       "370   [189.17]  [144.51231128126364]\n",
       "371   [104.83]  [173.65166473084912]\n",
       "372   [237.83]  [259.62983269830573]\n",
       "\n",
       "[373 rows x 2 columns]"
      ]
     },
     "execution_count": 46,
     "metadata": {},
     "output_type": "execute_result"
    }
   ],
   "source": [
    "y_test=np.array(Y_test)\n",
    "\n",
    "pd.DataFrame(list(zip(y_test,lm_predict)),columns=['Actual ADP','Predicted ADP'])\n"
   ]
  },
  {
   "cell_type": "code",
   "execution_count": 6,
   "metadata": {},
   "outputs": [],
   "source": [
    "#Random Forest Regressor\n",
    "from sklearn.ensemble import RandomForestRegressor\n",
    "\n",
    "rf_model=RandomForestRegressor(n_estimators=100,oob_score=True,max_depth=3,random_state=42)\n",
    "\n",
    "rf_model.fit(X_train,Y_train.values.ravel())\n",
    "\n",
    "rf_predict=rf_model.predict(X_test)"
   ]
  },
  {
   "cell_type": "code",
   "execution_count": 53,
   "metadata": {},
   "outputs": [
    {
     "data": {
      "text/plain": [
       "0.4607673742296966"
      ]
     },
     "execution_count": 53,
     "metadata": {},
     "output_type": "execute_result"
    }
   ],
   "source": [
    "#Out of box score, similar to R^2 for linear regression\n",
    "rf_model.oob_score_"
   ]
  },
  {
   "cell_type": "code",
   "execution_count": 56,
   "metadata": {},
   "outputs": [
    {
     "data": {
      "text/plain": [
       "0.4587254028568224"
      ]
     },
     "execution_count": 56,
     "metadata": {},
     "output_type": "execute_result"
    }
   ],
   "source": [
    "#Cross validation score for Random Forest Regressor\n",
    "cross_val_score(rf_model,X_train,Y_train.values.ravel(),cv=10).mean()"
   ]
  },
  {
   "cell_type": "code",
   "execution_count": 58,
   "metadata": {},
   "outputs": [
    {
     "name": "stdout",
     "output_type": "stream",
     "text": [
      "Root Mean Squared Error Random Forest: 53.110320019479865\n"
     ]
    }
   ],
   "source": [
    "#Mean Squared Error\n",
    "rf_mse=mean_squared_error(Y_test,rf_predict)\n",
    "\n",
    "print('Root Mean Squared Error Random Forest:',np.sqrt(rf_mse))"
   ]
  },
  {
   "cell_type": "code",
   "execution_count": 61,
   "metadata": {},
   "outputs": [],
   "source": [
    "#Sets up parameter dictionary for Random Forest Grid Search\n",
    "params={'n_estimators':[25,50,75,100],\n",
    "       'max_depth':[2,3,4,5]}\n",
    "\n",
    "rf=RandomForestRegressor(oob_score=True)\n",
    "\n",
    "dynasty_search=RandomizedSearchCV(rf,param_distributions=params, cv=5,n_iter=16,scoring='neg_mean_squared_error',random_state=123)"
   ]
  },
  {
   "cell_type": "code",
   "execution_count": 63,
   "metadata": {},
   "outputs": [
    {
     "data": {
      "text/plain": [
       "RandomizedSearchCV(cv=5, error_score=nan,\n",
       "                   estimator=RandomForestRegressor(bootstrap=True,\n",
       "                                                   ccp_alpha=0.0,\n",
       "                                                   criterion='mse',\n",
       "                                                   max_depth=None,\n",
       "                                                   max_features='auto',\n",
       "                                                   max_leaf_nodes=None,\n",
       "                                                   max_samples=None,\n",
       "                                                   min_impurity_decrease=0.0,\n",
       "                                                   min_impurity_split=None,\n",
       "                                                   min_samples_leaf=1,\n",
       "                                                   min_samples_split=2,\n",
       "                                                   min_weight_fraction_leaf=0.0,\n",
       "                                                   n_estimators=100,\n",
       "                                                   n_jobs=None, oob_score=True,\n",
       "                                                   random_state=None, verbose=0,\n",
       "                                                   warm_start=False),\n",
       "                   iid='deprecated', n_iter=16, n_jobs=None,\n",
       "                   param_distributions={'max_depth': [2, 3, 4, 5],\n",
       "                                        'n_estimators': [25, 50, 75, 100]},\n",
       "                   pre_dispatch='2*n_jobs', random_state=123, refit=True,\n",
       "                   return_train_score=False, scoring='neg_mean_squared_error',\n",
       "                   verbose=0)"
      ]
     },
     "execution_count": 63,
     "metadata": {},
     "output_type": "execute_result"
    }
   ],
   "source": [
    "#Random Search Grid\n",
    "dynasty_search.fit(X_train,Y_train.values.ravel())"
   ]
  },
  {
   "cell_type": "code",
   "execution_count": 66,
   "metadata": {},
   "outputs": [
    {
     "data": {
      "text/plain": [
       "-2455.5811051448522"
      ]
     },
     "execution_count": 66,
     "metadata": {},
     "output_type": "execute_result"
    }
   ],
   "source": [
    "dynasty_search.best_score_"
   ]
  },
  {
   "cell_type": "code",
   "execution_count": 76,
   "metadata": {},
   "outputs": [
    {
     "data": {
      "text/plain": [
       "{'n_estimators': 25, 'max_depth': 5}"
      ]
     },
     "execution_count": 76,
     "metadata": {},
     "output_type": "execute_result"
    }
   ],
   "source": [
    "dynasty_search.best_params_"
   ]
  },
  {
   "cell_type": "code",
   "execution_count": 68,
   "metadata": {},
   "outputs": [],
   "source": [
    "search_predictions=dynasty_search.best_estimator_.predict(X_test)"
   ]
  },
  {
   "cell_type": "code",
   "execution_count": 71,
   "metadata": {},
   "outputs": [
    {
     "name": "stdout",
     "output_type": "stream",
     "text": [
      "Root Mean Squared Error Random Forest: 49.01691888654187\n"
     ]
    }
   ],
   "source": [
    "#Prints the mean squared error for random forsr\n",
    "rf_mse=mean_squared_error(Y_test,search_predictions)\n",
    "\n",
    "print('Root Mean Squared Error Random Forest:',np.sqrt(rf_mse))"
   ]
  },
  {
   "cell_type": "code",
   "execution_count": 73,
   "metadata": {},
   "outputs": [
    {
     "data": {
      "text/plain": [
       "0.5422530239749195"
      ]
     },
     "execution_count": 73,
     "metadata": {},
     "output_type": "execute_result"
    }
   ],
   "source": [
    "#Cross validation score for Random Forest Regressor\n",
    "cross_val_score(rf,X_train,Y_train.values.ravel(),cv=10).mean()"
   ]
  },
  {
   "cell_type": "code",
   "execution_count": 81,
   "metadata": {},
   "outputs": [
    {
     "data": {
      "text/html": [
       "<div>\n",
       "<style scoped>\n",
       "    .dataframe tbody tr th:only-of-type {\n",
       "        vertical-align: middle;\n",
       "    }\n",
       "\n",
       "    .dataframe tbody tr th {\n",
       "        vertical-align: top;\n",
       "    }\n",
       "\n",
       "    .dataframe thead th {\n",
       "        text-align: right;\n",
       "    }\n",
       "</style>\n",
       "<table border=\"1\" class=\"dataframe\">\n",
       "  <thead>\n",
       "    <tr style=\"text-align: right;\">\n",
       "      <th></th>\n",
       "      <th>Actual ADP</th>\n",
       "      <th>Predicted ADP</th>\n",
       "    </tr>\n",
       "  </thead>\n",
       "  <tbody>\n",
       "    <tr>\n",
       "      <th>0</th>\n",
       "      <td>[221.83]</td>\n",
       "      <td>123.402165</td>\n",
       "    </tr>\n",
       "    <tr>\n",
       "      <th>1</th>\n",
       "      <td>[211.67]</td>\n",
       "      <td>195.912537</td>\n",
       "    </tr>\n",
       "    <tr>\n",
       "      <th>2</th>\n",
       "      <td>[50.5]</td>\n",
       "      <td>129.701801</td>\n",
       "    </tr>\n",
       "    <tr>\n",
       "      <th>3</th>\n",
       "      <td>[54.33]</td>\n",
       "      <td>67.192345</td>\n",
       "    </tr>\n",
       "    <tr>\n",
       "      <th>4</th>\n",
       "      <td>[185.33]</td>\n",
       "      <td>150.931444</td>\n",
       "    </tr>\n",
       "    <tr>\n",
       "      <th>...</th>\n",
       "      <td>...</td>\n",
       "      <td>...</td>\n",
       "    </tr>\n",
       "    <tr>\n",
       "      <th>368</th>\n",
       "      <td>[230.17]</td>\n",
       "      <td>208.321210</td>\n",
       "    </tr>\n",
       "    <tr>\n",
       "      <th>369</th>\n",
       "      <td>[231.33]</td>\n",
       "      <td>195.110564</td>\n",
       "    </tr>\n",
       "    <tr>\n",
       "      <th>370</th>\n",
       "      <td>[189.17]</td>\n",
       "      <td>157.922889</td>\n",
       "    </tr>\n",
       "    <tr>\n",
       "      <th>371</th>\n",
       "      <td>[104.83]</td>\n",
       "      <td>143.211682</td>\n",
       "    </tr>\n",
       "    <tr>\n",
       "      <th>372</th>\n",
       "      <td>[237.83]</td>\n",
       "      <td>179.565506</td>\n",
       "    </tr>\n",
       "  </tbody>\n",
       "</table>\n",
       "<p>373 rows × 2 columns</p>\n",
       "</div>"
      ],
      "text/plain": [
       "    Actual ADP  Predicted ADP\n",
       "0     [221.83]     123.402165\n",
       "1     [211.67]     195.912537\n",
       "2       [50.5]     129.701801\n",
       "3      [54.33]      67.192345\n",
       "4     [185.33]     150.931444\n",
       "..         ...            ...\n",
       "368   [230.17]     208.321210\n",
       "369   [231.33]     195.110564\n",
       "370   [189.17]     157.922889\n",
       "371   [104.83]     143.211682\n",
       "372   [237.83]     179.565506\n",
       "\n",
       "[373 rows x 2 columns]"
      ]
     },
     "execution_count": 81,
     "metadata": {},
     "output_type": "execute_result"
    }
   ],
   "source": [
    "pd.DataFrame(list(zip(y_test,search_predictions)),columns=['Actual ADP','Predicted ADP'])"
   ]
  },
  {
   "cell_type": "code",
   "execution_count": 7,
   "metadata": {},
   "outputs": [
    {
     "name": "stderr",
     "output_type": "stream",
     "text": [
      "Using TensorFlow backend.\n"
     ]
    }
   ],
   "source": [
    "#Sets up Keras \n",
    "from keras.layers import Dense\n",
    "from keras.models import Sequential\n",
    "from sklearn.model_selection import RandomizedSearchCV\n",
    "from keras.callbacks import EarlyStopping\n",
    "from keras.optimizers import Adam,Adagrad,RMSprop,SGD\n",
    "\n",
    "#Attempt to find the best parameters for this problem. First start off by defining my Neural Network\n",
    "def build_model(n_neurons,optimizer,n_hidden=1,learning_rate=0.1,input_dim=5,activation='relu'):\n",
    "    model=Sequential()\n",
    "    optimizer=optimizer\n",
    "    model.add(Dense(n_neurons,input_dim=input_dim,activation=activation))\n",
    "    for layer in range(n_hidden):\n",
    "        model.add(Dense(n_neurons, activation=activation))\n",
    "    model.add(Dense(1))\n",
    "    model.compile(loss='mse',optimizer=optimizer,metrics=['mae','mse'])\n",
    "    return model\n",
    "params_optimum={\n",
    "    'n_hidden':[10,11,12,13,14,15],\n",
    "    'n_neurons': [64,96,128,160,192,224,256],\n",
    "    'learning_rate':[0.1,0.01,0.001],\n",
    "    'epochs': [10,20,30,40,50,60,70,80,90,100],\n",
    "    'optimizer':['Adam','SGD','Adagrad']\n",
    "}"
   ]
  },
  {
   "cell_type": "code",
   "execution_count": 88,
   "metadata": {},
   "outputs": [
    {
     "name": "stdout",
     "output_type": "stream",
     "text": [
      "496/496 [==============================] - 0s 133us/step\n",
      "496/496 [==============================] - 0s 127us/step\n",
      "496/496 [==============================] - 0s 127us/step\n",
      "496/496 [==============================] - 0s 48us/step\n",
      "496/496 [==============================] - 0s 46us/step\n",
      "496/496 [==============================] - 0s 48us/step\n",
      "496/496 [==============================] - 0s 207us/step\n",
      "496/496 [==============================] - 0s 223us/step\n",
      "496/496 [==============================] - 0s 223us/step\n",
      "496/496 [==============================] - 0s 68us/step\n",
      "496/496 [==============================] - 0s 74us/step\n",
      "496/496 [==============================] - 0s 72us/step\n"
     ]
    },
    {
     "name": "stderr",
     "output_type": "stream",
     "text": [
      "C:\\Users\\John\\Anaconda3\\lib\\site-packages\\keras\\callbacks\\callbacks.py:820: RuntimeWarning: invalid value encountered in less\n",
      "  if self.monitor_op(current - self.min_delta, self.best):\n"
     ]
    },
    {
     "name": "stdout",
     "output_type": "stream",
     "text": [
      "496/496 [==============================] - 0s 145us/step\n",
      "496/496 [==============================] - 0s 131us/step\n",
      "496/496 [==============================] - 0s 141us/step\n",
      "496/496 [==============================] - 0s 163us/step\n",
      "496/496 [==============================] - 0s 155us/step\n",
      "496/496 [==============================] - 0s 133us/step\n",
      "496/496 [==============================] - 0s 86us/step\n",
      "496/496 [==============================] - 0s 82us/step\n",
      "496/496 [==============================] - 0s 86us/step\n",
      "496/496 [==============================] - 0s 84us/step\n",
      "496/496 [==============================] - 0s 86us/step\n",
      "496/496 [==============================] - 0s 137us/step\n",
      "496/496 [==============================] - 0s 135us/step\n",
      "496/496 [==============================] - 0s 154us/step\n",
      "496/496 [==============================] - 0s 123us/step\n",
      "496/496 [==============================] - 0s 78us/step\n",
      "496/496 [==============================] - 0s 78us/step\n",
      "496/496 [==============================] - 0s 80us/step\n"
     ]
    }
   ],
   "source": [
    "from keras.wrappers.scikit_learn import KerasRegressor\n",
    "#Random Grid Search using Kera's Classifier\n",
    "random.seed(42)\n",
    "\n",
    "keras_reg=KerasRegressor(build_fn=build_model)\n",
    "\n",
    "random_search=RandomizedSearchCV(keras_reg,params_optimum,cv=3)\n",
    "\n",
    "history=random_search.fit(X_train,Y_train,validation_split=.2,verbose=0,\n",
    "                 callbacks=[EarlyStopping(monitor='val_loss',patience=10)])"
   ]
  },
  {
   "cell_type": "code",
   "execution_count": 89,
   "metadata": {},
   "outputs": [
    {
     "data": {
      "text/plain": [
       "{'optimizer': 'Adagrad',\n",
       " 'n_neurons': 256,\n",
       " 'n_hidden': 15,\n",
       " 'learning_rate': 0.001,\n",
       " 'epochs': 100}"
      ]
     },
     "execution_count": 89,
     "metadata": {},
     "output_type": "execute_result"
    }
   ],
   "source": [
    "#Best parameters according to the Grid Search\n",
    "random_search.best_params_"
   ]
  },
  {
   "cell_type": "code",
   "execution_count": 92,
   "metadata": {},
   "outputs": [
    {
     "data": {
      "text/plain": [
       "-2546.9574670278894"
      ]
     },
     "execution_count": 92,
     "metadata": {},
     "output_type": "execute_result"
    }
   ],
   "source": [
    "#Best accuracy Score\n",
    "random_search.best_score_"
   ]
  },
  {
   "cell_type": "code",
   "execution_count": 102,
   "metadata": {},
   "outputs": [
    {
     "name": "stdout",
     "output_type": "stream",
     "text": [
      "Root Mean Squared Error Neural Network: 45.59074994243753\n"
     ]
    }
   ],
   "source": [
    "keras_predict=random_search.best_estimator_.predict(X_test)\n",
    "\n",
    "#Prints the mean squared error for Neural Network\n",
    "keras_mse=mean_squared_error(Y_test,keras_predict)\n",
    "\n",
    "print('Root Mean Squared Error Neural Network:',np.sqrt(keras_mse))"
   ]
  },
  {
   "cell_type": "code",
   "execution_count": 109,
   "metadata": {},
   "outputs": [],
   "source": [
    "pd.DataFrame(list(zip(y_test,keras_predict)),columns=['Actual ADP','Predict ADP']).to_csv('Keras ADP predictions.csv')"
   ]
  },
  {
   "cell_type": "code",
   "execution_count": 246,
   "metadata": {},
   "outputs": [
    {
     "data": {
      "text/plain": [
       "(1525,)"
      ]
     },
     "execution_count": 246,
     "metadata": {},
     "output_type": "execute_result"
    }
   ],
   "source": [
    "#Drop out Rookies to in order to see if models perform better\n",
    "\n",
    "dynasty.head()\n",
    "\n",
    "vet_adp=dynasty[dynasty['Rookie']==1]\n",
    "\n",
    "vet_adp.head()\n",
    "\n",
    "vet_to_scale=vet_adp[['Pos','AGE','Round','Fantasy Points']]\n",
    "\n",
    "col=vet_to_scale.columns\n",
    "\n",
    "vet_target=vet_adp.loc[:,'ADP']\n",
    "\n",
    "vet_to_scale=min_max.fit_transform(vet_to_scale)\n",
    "\n",
    "vet_to_scale=pd.DataFrame(vet_to_scale,columns=col)\n",
    "\n",
    "vet_to_scale.head()\n",
    "\n",
    "vet_train,vet_test,adp_train,adp_test=train_test_split(vet_to_scale,vet_target, test_size=.2,random_state=123)\n",
    "\n",
    "vet_target.shape\n"
   ]
  },
  {
   "cell_type": "code",
   "execution_count": 25,
   "metadata": {},
   "outputs": [],
   "source": [
    "#Linear model\n",
    "lm.fit(vet_train,adp_train)\n",
    "\n",
    "vet_lm=lm.predict(vet_test)"
   ]
  },
  {
   "cell_type": "code",
   "execution_count": 27,
   "metadata": {},
   "outputs": [
    {
     "data": {
      "text/plain": [
       "0.4525714826196596"
      ]
     },
     "execution_count": 27,
     "metadata": {},
     "output_type": "execute_result"
    }
   ],
   "source": [
    "#Cross validation score\n",
    "cross_val_score(lm,vet_train,adp_train,cv=10).mean()"
   ]
  },
  {
   "cell_type": "code",
   "execution_count": 28,
   "metadata": {},
   "outputs": [
    {
     "name": "stdout",
     "output_type": "stream",
     "text": [
      "R^2 Score: 0.4601541951403124\n"
     ]
    }
   ],
   "source": [
    "#R^2 score\n",
    "print('R^2 Score:',lm.score(vet_train,adp_train))"
   ]
  },
  {
   "cell_type": "code",
   "execution_count": 36,
   "metadata": {},
   "outputs": [
    {
     "name": "stdout",
     "output_type": "stream",
     "text": [
      "[('Pos', -45.857827210508326), ('AGE', 141.57763615640093), ('Round', 41.16862160102823), ('Fantasy Points', -241.8090276080468)]\n"
     ]
    }
   ],
   "source": [
    "#Prints linear regression coefficents to see what features had most impact. Fantasy Points appears to have the most impact\n",
    "# on the linear model, followed by age, round, and position\n",
    "print(list(zip(col,lm.coef_)))"
   ]
  },
  {
   "cell_type": "code",
   "execution_count": 30,
   "metadata": {},
   "outputs": [
    {
     "name": "stdout",
     "output_type": "stream",
     "text": [
      "Root Mean Error: 56.118054814500724\n"
     ]
    }
   ],
   "source": [
    "vet_mse=mean_squared_error(adp_test,vet_lm)\n",
    "\n",
    "print('Root Mean Error:',np.sqrt(vet_mse))"
   ]
  },
  {
   "cell_type": "code",
   "execution_count": 242,
   "metadata": {},
   "outputs": [],
   "source": [
    "#Sets up parameter dictionary for Random Forest Grid Search\n",
    "params={'n_estimators':[25,50,75,100],\n",
    "       'max_depth':[2,3,4,5]}\n",
    "\n",
    "vet_rf=RandomForestRegressor(oob_score=True)\n",
    "\n",
    "vet_search=RandomizedSearchCV(vet_rf,param_distributions=params, cv=5,n_iter=16,scoring='neg_mean_squared_error',random_state=123)"
   ]
  },
  {
   "cell_type": "code",
   "execution_count": 247,
   "metadata": {},
   "outputs": [
    {
     "data": {
      "text/plain": [
       "RandomizedSearchCV(cv=5, error_score=nan,\n",
       "                   estimator=RandomForestRegressor(bootstrap=True,\n",
       "                                                   ccp_alpha=0.0,\n",
       "                                                   criterion='mse',\n",
       "                                                   max_depth=None,\n",
       "                                                   max_features='auto',\n",
       "                                                   max_leaf_nodes=None,\n",
       "                                                   max_samples=None,\n",
       "                                                   min_impurity_decrease=0.0,\n",
       "                                                   min_impurity_split=None,\n",
       "                                                   min_samples_leaf=1,\n",
       "                                                   min_samples_split=2,\n",
       "                                                   min_weight_fraction_leaf=0.0,\n",
       "                                                   n_estimators=100,\n",
       "                                                   n_jobs=None, oob_score=True,\n",
       "                                                   random_state=None, verbose=0,\n",
       "                                                   warm_start=False),\n",
       "                   iid='deprecated', n_iter=16, n_jobs=None,\n",
       "                   param_distributions={'max_depth': [2, 3, 4, 5],\n",
       "                                        'n_estimators': [25, 50, 75, 100]},\n",
       "                   pre_dispatch='2*n_jobs', random_state=123, refit=True,\n",
       "                   return_train_score=False, scoring='neg_mean_squared_error',\n",
       "                   verbose=0)"
      ]
     },
     "execution_count": 247,
     "metadata": {},
     "output_type": "execute_result"
    }
   ],
   "source": [
    "vet_search.fit(vet_train,adp_train)"
   ]
  },
  {
   "cell_type": "code",
   "execution_count": 248,
   "metadata": {},
   "outputs": [
    {
     "data": {
      "text/plain": [
       "{'n_estimators': 100, 'max_depth': 5}"
      ]
     },
     "execution_count": 248,
     "metadata": {},
     "output_type": "execute_result"
    }
   ],
   "source": [
    "vet_search.best_params_"
   ]
  },
  {
   "cell_type": "code",
   "execution_count": 42,
   "metadata": {},
   "outputs": [
    {
     "data": {
      "text/plain": [
       "-2658.3196913952866"
      ]
     },
     "execution_count": 42,
     "metadata": {},
     "output_type": "execute_result"
    }
   ],
   "source": [
    "vet_search.best_score_"
   ]
  },
  {
   "cell_type": "code",
   "execution_count": 249,
   "metadata": {},
   "outputs": [],
   "source": [
    "search_predictions=vet_search.best_estimator_.predict(vet_test)"
   ]
  },
  {
   "cell_type": "code",
   "execution_count": 45,
   "metadata": {},
   "outputs": [
    {
     "name": "stdout",
     "output_type": "stream",
     "text": [
      "Root Mean Squared Error Random Forest: 49.396877628606596\n"
     ]
    }
   ],
   "source": [
    "#Prints the mean squared error for random forsr\n",
    "vet_rf_mse=mean_squared_error(adp_test,search_predictions)\n",
    "\n",
    "print('Root Mean Squared Error Random Forest:',np.sqrt(vet_rf_mse))"
   ]
  },
  {
   "cell_type": "code",
   "execution_count": 46,
   "metadata": {},
   "outputs": [
    {
     "data": {
      "text/plain": [
       "0.48550170092256995"
      ]
     },
     "execution_count": 46,
     "metadata": {},
     "output_type": "execute_result"
    }
   ],
   "source": [
    "#Cross validation score for Random Forest Regressor\n",
    "cross_val_score(vet_rf,vet_train,adp_train,cv=10).mean()"
   ]
  },
  {
   "cell_type": "code",
   "execution_count": 59,
   "metadata": {},
   "outputs": [
    {
     "data": {
      "text/plain": [
       "0.5834534780888658"
      ]
     },
     "execution_count": 59,
     "metadata": {},
     "output_type": "execute_result"
    }
   ],
   "source": [
    "from sklearn.metrics import r2_score\n",
    "\n",
    "r2_score(adp_test,search_predictions)"
   ]
  },
  {
   "cell_type": "code",
   "execution_count": 252,
   "metadata": {},
   "outputs": [
    {
     "data": {
      "text/plain": [
       "[('Pos', 0.11), ('AGE', 0.16), ('Round', 0.09), ('Fantasy Points', 0.64)]"
      ]
     },
     "execution_count": 252,
     "metadata": {},
     "output_type": "execute_result"
    }
   ],
   "source": [
    "#Finds feature importance among the varaibles\n",
    "importances=list(vet_search.best_estimator_.feature_importances_)\n",
    "\n",
    "importances\n",
    "\n",
    "feature_importance=[(X,round(importances,2))for X,importances in zip(col, importances)]\n",
    "\n",
    "feature_importance"
   ]
  },
  {
   "cell_type": "code",
   "execution_count": 48,
   "metadata": {},
   "outputs": [],
   "source": [
    "#Attempt to find the best parameters for this problem. First start off by defining my Neural Network\n",
    "def vet_model(n_neurons,optimizer,n_hidden=1,learning_rate=0.1,input_dim=4,activation='relu'):\n",
    "    model=Sequential()\n",
    "    optimizer=optimizer\n",
    "    model.add(Dense(n_neurons,input_dim=input_dim,activation=activation))\n",
    "    for layer in range(n_hidden):\n",
    "        model.add(Dense(n_neurons, activation=activation))\n",
    "    model.add(Dense(1))\n",
    "    model.compile(loss='mse',optimizer=optimizer,metrics=['mae','mse'])\n",
    "    return model\n",
    "params_optimum={\n",
    "    'n_hidden':[10,11,12,13,14,15],\n",
    "    'n_neurons': [64,96,128,160,192,224,256],\n",
    "    'learning_rate':[0.1,0.01,0.001],\n",
    "    'epochs': [10,20,30,40,50,60,70,80,90,100],\n",
    "    'optimizer':['Adam','SGD','Adagrad']\n",
    "}"
   ]
  },
  {
   "cell_type": "code",
   "execution_count": 49,
   "metadata": {},
   "outputs": [
    {
     "name": "stderr",
     "output_type": "stream",
     "text": [
      "C:\\Users\\John\\Anaconda3\\lib\\site-packages\\keras\\callbacks\\callbacks.py:820: RuntimeWarning: invalid value encountered in less\n",
      "  if self.monitor_op(current - self.min_delta, self.best):\n"
     ]
    },
    {
     "name": "stdout",
     "output_type": "stream",
     "text": [
      "407/407 [==============================] - 0s 123us/step\n",
      "407/407 [==============================] - 0s 120us/step\n",
      "406/406 [==============================] - 0s 98us/step\n",
      "407/407 [==============================] - 0s 123us/step\n",
      "407/407 [==============================] - 0s 135us/step\n",
      "406/406 [==============================] - 0s 125us/step\n",
      "407/407 [==============================] - 0s 51us/step\n",
      "407/407 [==============================] - 0s 49us/step\n",
      "406/406 [==============================] - 0s 49us/step\n",
      "407/407 [==============================] - 0s 127us/step\n",
      "407/407 [==============================] - 0s 118us/step\n",
      "406/406 [==============================] - 0s 120us/step\n",
      "407/407 [==============================] - 0s 115us/step\n",
      "407/407 [==============================] - 0s 130us/step\n",
      "406/406 [==============================] - 0s 140us/step\n",
      "407/407 [==============================] - 0s 118us/step\n",
      "407/407 [==============================] - 0s 120us/step\n",
      "406/406 [==============================] - 0s 120us/step\n",
      "407/407 [==============================] - 0s 110us/step\n",
      "407/407 [==============================] - 0s 137us/step\n",
      "406/406 [==============================] - 0s 125us/step\n",
      "407/407 [==============================] - 0s 69us/step\n",
      "407/407 [==============================] - 0s 74us/step\n",
      "406/406 [==============================] - 0s 71us/step\n",
      "407/407 [==============================] - 0s 162us/step\n",
      "407/407 [==============================] - 0s 179us/step\n",
      "406/406 [==============================] - 0s 179us/step\n",
      "407/407 [==============================] - 0s 167us/step\n",
      "407/407 [==============================] - 0s 115us/step\n",
      "406/406 [==============================] - 0s 130us/step\n"
     ]
    }
   ],
   "source": [
    "from keras.wrappers.scikit_learn import KerasRegressor\n",
    "#Random Grid Search using Kera's Classifier\n",
    "random.seed(42)\n",
    "\n",
    "keras_reg=KerasRegressor(build_fn=vet_model)\n",
    "\n",
    "random_search=RandomizedSearchCV(keras_reg,params_optimum,cv=3)\n",
    "\n",
    "vet_history=random_search.fit(vet_train,adp_train,validation_split=.2,verbose=0,\n",
    "                 callbacks=[EarlyStopping(monitor='val_loss',patience=10)])"
   ]
  },
  {
   "cell_type": "code",
   "execution_count": 50,
   "metadata": {},
   "outputs": [
    {
     "data": {
      "text/plain": [
       "{'optimizer': 'Adam',\n",
       " 'n_neurons': 224,\n",
       " 'n_hidden': 12,\n",
       " 'learning_rate': 0.01,\n",
       " 'epochs': 100}"
      ]
     },
     "execution_count": 50,
     "metadata": {},
     "output_type": "execute_result"
    }
   ],
   "source": [
    "#Best parameters according to the Grid Search\n",
    "random_search.best_params_"
   ]
  },
  {
   "cell_type": "code",
   "execution_count": 51,
   "metadata": {},
   "outputs": [
    {
     "data": {
      "text/plain": [
       "-2492.1180343048945"
      ]
     },
     "execution_count": 51,
     "metadata": {},
     "output_type": "execute_result"
    }
   ],
   "source": [
    "#Best accuracy Score\n",
    "random_search.best_score_"
   ]
  },
  {
   "cell_type": "code",
   "execution_count": 60,
   "metadata": {},
   "outputs": [
    {
     "name": "stdout",
     "output_type": "stream",
     "text": [
      "Root Mean Squared Error Neural Network: 53.20036381737958\n"
     ]
    }
   ],
   "source": [
    "keras_predict=random_search.best_estimator_.predict(vet_test)\n",
    "\n",
    "#Prints the mean squared error for Neural Network\n",
    "keras_mse=mean_squared_error(adp_test,keras_predict)\n",
    "\n",
    "print('Root Mean Squared Error Neural Network:',np.sqrt(keras_mse))"
   ]
  },
  {
   "cell_type": "code",
   "execution_count": 67,
   "metadata": {},
   "outputs": [
    {
     "data": {
      "text/plain": [
       "0.516836942410828"
      ]
     },
     "execution_count": 67,
     "metadata": {},
     "output_type": "execute_result"
    }
   ],
   "source": [
    "#R2 sore for keras model\n",
    "r2_score(adp_test,keras_predict)"
   ]
  },
  {
   "cell_type": "code",
   "execution_count": 8,
   "metadata": {},
   "outputs": [
    {
     "data": {
      "text/html": [
       "<div>\n",
       "<style scoped>\n",
       "    .dataframe tbody tr th:only-of-type {\n",
       "        vertical-align: middle;\n",
       "    }\n",
       "\n",
       "    .dataframe tbody tr th {\n",
       "        vertical-align: top;\n",
       "    }\n",
       "\n",
       "    .dataframe thead th {\n",
       "        text-align: right;\n",
       "    }\n",
       "</style>\n",
       "<table border=\"1\" class=\"dataframe\">\n",
       "  <thead>\n",
       "    <tr style=\"text-align: right;\">\n",
       "      <th></th>\n",
       "      <th>Rank</th>\n",
       "      <th>Player</th>\n",
       "      <th>Team</th>\n",
       "      <th>Year</th>\n",
       "      <th>Pos</th>\n",
       "      <th>AGE</th>\n",
       "      <th>Round</th>\n",
       "      <th>Rookie</th>\n",
       "      <th>Fantasy Points</th>\n",
       "      <th>ADP</th>\n",
       "      <th>Rd_drafted</th>\n",
       "      <th>Performance_Metric</th>\n",
       "      <th>#1</th>\n",
       "      <th>#2</th>\n",
       "      <th>#3</th>\n",
       "      <th>#4</th>\n",
       "      <th>#5</th>\n",
       "      <th>#6</th>\n",
       "    </tr>\n",
       "  </thead>\n",
       "  <tbody>\n",
       "    <tr>\n",
       "      <th>0</th>\n",
       "      <td>1</td>\n",
       "      <td>Christian McCaffrey</td>\n",
       "      <td>CAR</td>\n",
       "      <td>2020</td>\n",
       "      <td>RB</td>\n",
       "      <td>24</td>\n",
       "      <td>1</td>\n",
       "      <td>No</td>\n",
       "      <td>411.20</td>\n",
       "      <td>1.33</td>\n",
       "      <td>1</td>\n",
       "      <td>72.1</td>\n",
       "      <td>1</td>\n",
       "      <td>2</td>\n",
       "      <td>1</td>\n",
       "      <td>1</td>\n",
       "      <td>1</td>\n",
       "      <td>2</td>\n",
       "    </tr>\n",
       "    <tr>\n",
       "      <th>1</th>\n",
       "      <td>2</td>\n",
       "      <td>Saquon Barkley</td>\n",
       "      <td>NYG</td>\n",
       "      <td>2020</td>\n",
       "      <td>RB</td>\n",
       "      <td>23</td>\n",
       "      <td>1</td>\n",
       "      <td>No</td>\n",
       "      <td>218.10</td>\n",
       "      <td>1.67</td>\n",
       "      <td>1</td>\n",
       "      <td>37.3</td>\n",
       "      <td>2</td>\n",
       "      <td>1</td>\n",
       "      <td>2</td>\n",
       "      <td>2</td>\n",
       "      <td>2</td>\n",
       "      <td>1</td>\n",
       "    </tr>\n",
       "    <tr>\n",
       "      <th>2</th>\n",
       "      <td>3</td>\n",
       "      <td>Ezekiel Elliott</td>\n",
       "      <td>DAL</td>\n",
       "      <td>2020</td>\n",
       "      <td>RB</td>\n",
       "      <td>24</td>\n",
       "      <td>1</td>\n",
       "      <td>No</td>\n",
       "      <td>284.70</td>\n",
       "      <td>3.67</td>\n",
       "      <td>1</td>\n",
       "      <td>58.1</td>\n",
       "      <td>4</td>\n",
       "      <td>4</td>\n",
       "      <td>3</td>\n",
       "      <td>4</td>\n",
       "      <td>3</td>\n",
       "      <td>4</td>\n",
       "    </tr>\n",
       "    <tr>\n",
       "      <th>3</th>\n",
       "      <td>4</td>\n",
       "      <td>Michael Thomas</td>\n",
       "      <td>NOS</td>\n",
       "      <td>2020</td>\n",
       "      <td>WR</td>\n",
       "      <td>27</td>\n",
       "      <td>2</td>\n",
       "      <td>No</td>\n",
       "      <td>300.10</td>\n",
       "      <td>4.00</td>\n",
       "      <td>1</td>\n",
       "      <td>57.2</td>\n",
       "      <td>3</td>\n",
       "      <td>3</td>\n",
       "      <td>5</td>\n",
       "      <td>3</td>\n",
       "      <td>4</td>\n",
       "      <td>6</td>\n",
       "    </tr>\n",
       "    <tr>\n",
       "      <th>4</th>\n",
       "      <td>5</td>\n",
       "      <td>Alvin Kamara</td>\n",
       "      <td>NOS</td>\n",
       "      <td>2020</td>\n",
       "      <td>RB</td>\n",
       "      <td>25</td>\n",
       "      <td>3</td>\n",
       "      <td>No</td>\n",
       "      <td>208.02</td>\n",
       "      <td>5.83</td>\n",
       "      <td>1</td>\n",
       "      <td>23.7</td>\n",
       "      <td>5</td>\n",
       "      <td>8</td>\n",
       "      <td>7</td>\n",
       "      <td>5</td>\n",
       "      <td>7</td>\n",
       "      <td>3</td>\n",
       "    </tr>\n",
       "  </tbody>\n",
       "</table>\n",
       "</div>"
      ],
      "text/plain": [
       "   Rank               Player  Team  Year Pos  AGE Round Rookie  \\\n",
       "0     1  Christian McCaffrey   CAR  2020  RB   24     1     No   \n",
       "1     2       Saquon Barkley   NYG  2020  RB   23     1     No   \n",
       "2     3      Ezekiel Elliott   DAL  2020  RB   24     1     No   \n",
       "3     4       Michael Thomas   NOS  2020  WR   27     2     No   \n",
       "4     5         Alvin Kamara   NOS  2020  RB   25     3     No   \n",
       "\n",
       "   Fantasy Points   ADP  Rd_drafted  Performance_Metric  #1  #2  #3  #4  #5  \\\n",
       "0          411.20  1.33           1                72.1   1   2   1   1   1   \n",
       "1          218.10  1.67           1                37.3   2   1   2   2   2   \n",
       "2          284.70  3.67           1                58.1   4   4   3   4   3   \n",
       "3          300.10  4.00           1                57.2   3   3   5   3   4   \n",
       "4          208.02  5.83           1                23.7   5   8   7   5   7   \n",
       "\n",
       "   #6  \n",
       "0   2  \n",
       "1   1  \n",
       "2   4  \n",
       "3   6  \n",
       "4   3  "
      ]
     },
     "execution_count": 8,
     "metadata": {},
     "output_type": "execute_result"
    }
   ],
   "source": [
    "#load dynasty data with Performance metric\n",
    "\n",
    "dynasty_performance=pd.read_csv('Dynasty_w_Performance.csv')\n",
    "\n",
    "dynasty_performance.head()"
   ]
  },
  {
   "cell_type": "code",
   "execution_count": 15,
   "metadata": {},
   "outputs": [
    {
     "data": {
      "text/plain": [
       "Rank                    0\n",
       "Player                  0\n",
       "Team                    4\n",
       "Year                    0\n",
       "Pos                     0\n",
       "AGE                     0\n",
       "Round                   0\n",
       "Rookie                  0\n",
       "Fantasy Points          0\n",
       "ADP                     0\n",
       "Rd_drafted              0\n",
       "Performance_Metric    248\n",
       "#1                      0\n",
       "#2                      0\n",
       "#3                      0\n",
       "#4                      0\n",
       "#5                      0\n",
       "#6                      0\n",
       "dtype: int64"
      ]
     },
     "execution_count": 15,
     "metadata": {},
     "output_type": "execute_result"
    }
   ],
   "source": [
    "dynasty_performance.isna().sum()"
   ]
  },
  {
   "cell_type": "code",
   "execution_count": 19,
   "metadata": {},
   "outputs": [
    {
     "data": {
      "text/plain": [
       "248"
      ]
     },
     "execution_count": 19,
     "metadata": {},
     "output_type": "execute_result"
    }
   ],
   "source": [
    "dynasty_performance['Performance_Metric'].isna().sum()"
   ]
  },
  {
   "cell_type": "code",
   "execution_count": 24,
   "metadata": {},
   "outputs": [
    {
     "data": {
      "text/plain": [
       "pandas.core.frame.DataFrame"
      ]
     },
     "execution_count": 24,
     "metadata": {},
     "output_type": "execute_result"
    }
   ],
   "source": [
    "#Removes year 2014 becasue I didnt have performance metric data from 2103\n",
    "performance_df=dynasty_performance[dynasty_performance['Year']!=2014]\n",
    "\n",
    "performance_df.head()\n",
    "\n",
    "type(vet_performance_df)"
   ]
  },
  {
   "cell_type": "code",
   "execution_count": 100,
   "metadata": {},
   "outputs": [
    {
     "data": {
      "text/plain": [
       "Text(0.5, 1, 'ADP vs Performance_Metric')"
      ]
     },
     "execution_count": 100,
     "metadata": {},
     "output_type": "execute_result"
    },
    {
     "data": {
      "image/png": "[encoded data removed]",
      "text/plain": [
       "<Figure size 360x360 with 1 Axes>"
      ]
     },
     "metadata": {
      "needs_background": "light"
     },
     "output_type": "display_data"
    }
   ],
   "source": [
    "#Plots Performance Metric vs ADP\n",
    "sns.lmplot(x='ADP',y='Performance_Metric',data=vet_performance_df)\n",
    "plt.title('ADP vs Performance_Metric')"
   ]
  },
  {
   "cell_type": "code",
   "execution_count": 30,
   "metadata": {},
   "outputs": [
    {
     "name": "stderr",
     "output_type": "stream",
     "text": [
      "C:\\Users\\John\\Anaconda3\\lib\\site-packages\\ipykernel_launcher.py:8: SettingWithCopyWarning: \n",
      "A value is trying to be set on a copy of a slice from a DataFrame.\n",
      "Try using .loc[row_indexer,col_indexer] = value instead\n",
      "\n",
      "See the caveats in the documentation: https://pandas.pydata.org/pandas-docs/stable/user_guide/indexing.html#returning-a-view-versus-a-copy\n",
      "  \n",
      "C:\\Users\\John\\Anaconda3\\lib\\site-packages\\ipykernel_launcher.py:9: SettingWithCopyWarning: \n",
      "A value is trying to be set on a copy of a slice from a DataFrame.\n",
      "Try using .loc[row_indexer,col_indexer] = value instead\n",
      "\n",
      "See the caveats in the documentation: https://pandas.pydata.org/pandas-docs/stable/user_guide/indexing.html#returning-a-view-versus-a-copy\n",
      "  if __name__ == '__main__':\n"
     ]
    },
    {
     "data": {
      "text/plain": [
       "(1321, 18)"
      ]
     },
     "execution_count": 30,
     "metadata": {},
     "output_type": "execute_result"
    }
   ],
   "source": [
    "#Encodes positions to a numeric value. 0=QB,1=RB,2=TE,3=WR\n",
    "from sklearn.preprocessing import LabelEncoder\n",
    "\n",
    "vet_performance_df=performance_df[performance_df['Rookie']=='No']\n",
    "\n",
    "encode=LabelEncoder()\n",
    "\n",
    "vet_performance_df['Pos']=encode.fit_transform(vet_performance_df['Pos'])\n",
    "vet_performance_df['Round']=encode.fit_transform(vet_performance_df['Round'])\n",
    "\n",
    "vet_performance_df.shape\n",
    "\n",
    "\n",
    "\n",
    "\n",
    "\n"
   ]
  },
  {
   "cell_type": "code",
   "execution_count": 28,
   "metadata": {},
   "outputs": [
    {
     "data": {
      "text/plain": [
       "0    348\n",
       "1    279\n",
       "2    217\n",
       "7    171\n",
       "3    126\n",
       "4     80\n",
       "5     75\n",
       "6     25\n",
       "Name: Round, dtype: int64"
      ]
     },
     "execution_count": 28,
     "metadata": {},
     "output_type": "execute_result"
    }
   ],
   "source": [
    "vet_performance_df['Round'].value_counts()"
   ]
  },
  {
   "cell_type": "code",
   "execution_count": 29,
   "metadata": {},
   "outputs": [
    {
     "data": {
      "text/plain": [
       "3    552\n",
       "1    400\n",
       "2    195\n",
       "0    174\n",
       "Name: Pos, dtype: int64"
      ]
     },
     "execution_count": 29,
     "metadata": {},
     "output_type": "execute_result"
    }
   ],
   "source": [
    "vet_performance_df['Pos'].value_counts()"
   ]
  },
  {
   "cell_type": "code",
   "execution_count": 60,
   "metadata": {},
   "outputs": [
    {
     "data": {
      "text/plain": [
       "(1321,)"
      ]
     },
     "execution_count": 60,
     "metadata": {},
     "output_type": "execute_result"
    }
   ],
   "source": [
    "#gets the columns I need to run the test and scales the data between 0 and 1\n",
    "vet_df=vet_performance_df.loc[:,['Pos','AGE','Round','Fantasy Points','Performance_Metric']]\n",
    "\n",
    "col_names=vet_df.columns\n",
    "\n",
    "performance_target=vet_performance_df.loc[:,'ADP']\n",
    "\n",
    "vet_df=min_max.fit_transform(vet_df)\n",
    "\n",
    "vet_df=pd.DataFrame(vet_df,columns=col_names)\n",
    "\n",
    "performance_target.shape"
   ]
  },
  {
   "cell_type": "code",
   "execution_count": 61,
   "metadata": {},
   "outputs": [],
   "source": [
    "#Linear regression model\n",
    "performance_train,performance_test,adp_train,adp_test=train_test_split(vet_df,performance_target, \n",
    "                                                                       test_size=.2,random_state=123)\n",
    "\n",
    "lm.fit(performance_train,adp_train)\n",
    "perform_predict=lm.predict(performance_test)\n",
    "\n"
   ]
  },
  {
   "cell_type": "code",
   "execution_count": 62,
   "metadata": {},
   "outputs": [
    {
     "data": {
      "text/plain": [
       "0.49934485965309133"
      ]
     },
     "execution_count": 62,
     "metadata": {},
     "output_type": "execute_result"
    }
   ],
   "source": [
    "#Cross validation score\n",
    "cross_val_score(lm,performance_train,adp_train,cv=10).mean()"
   ]
  },
  {
   "cell_type": "code",
   "execution_count": 63,
   "metadata": {},
   "outputs": [
    {
     "name": "stdout",
     "output_type": "stream",
     "text": [
      "R^2 Score: 0.5078847043308405\n"
     ]
    }
   ],
   "source": [
    "#R^2 score\n",
    "print('R^2 Score:',lm.score(performance_train,adp_train))"
   ]
  },
  {
   "cell_type": "code",
   "execution_count": 65,
   "metadata": {},
   "outputs": [
    {
     "name": "stdout",
     "output_type": "stream",
     "text": [
      "Root Mean Error: 57.62680525657344\n"
     ]
    }
   ],
   "source": [
    "perform_vet_mse=mean_squared_error(adp_test,perform_predict)\n",
    "\n",
    "print('Root Mean Error:',np.sqrt(perform_vet_mse))"
   ]
  },
  {
   "cell_type": "code",
   "execution_count": 67,
   "metadata": {},
   "outputs": [],
   "source": [
    "#Parameters for random search grid\n",
    "params={'n_estimators':[25,50,75,100],\n",
    "       'max_depth':[2,3,4,5]}\n",
    "\n",
    "vet_rf=RandomForestRegressor()\n",
    "\n",
    "perform_search=RandomizedSearchCV(vet_rf,param_distributions=params, cv=5,n_iter=16,scoring='neg_mean_squared_error',random_state=123)"
   ]
  },
  {
   "cell_type": "code",
   "execution_count": 68,
   "metadata": {},
   "outputs": [
    {
     "data": {
      "text/plain": [
       "RandomizedSearchCV(cv=5, error_score=nan,\n",
       "                   estimator=RandomForestRegressor(bootstrap=True,\n",
       "                                                   ccp_alpha=0.0,\n",
       "                                                   criterion='mse',\n",
       "                                                   max_depth=None,\n",
       "                                                   max_features='auto',\n",
       "                                                   max_leaf_nodes=None,\n",
       "                                                   max_samples=None,\n",
       "                                                   min_impurity_decrease=0.0,\n",
       "                                                   min_impurity_split=None,\n",
       "                                                   min_samples_leaf=1,\n",
       "                                                   min_samples_split=2,\n",
       "                                                   min_weight_fraction_leaf=0.0,\n",
       "                                                   n_estimators=100,\n",
       "                                                   n_jobs=None, oob_score=False,\n",
       "                                                   random_state=None, verbose=0,\n",
       "                                                   warm_start=False),\n",
       "                   iid='deprecated', n_iter=16, n_jobs=None,\n",
       "                   param_distributions={'max_depth': [2, 3, 4, 5],\n",
       "                                        'n_estimators': [25, 50, 75, 100]},\n",
       "                   pre_dispatch='2*n_jobs', random_state=123, refit=True,\n",
       "                   return_train_score=False, scoring='neg_mean_squared_error',\n",
       "                   verbose=0)"
      ]
     },
     "execution_count": 68,
     "metadata": {},
     "output_type": "execute_result"
    }
   ],
   "source": [
    "perform_search.fit(performance_train,adp_train)"
   ]
  },
  {
   "cell_type": "code",
   "execution_count": 70,
   "metadata": {},
   "outputs": [
    {
     "data": {
      "text/plain": [
       "0.5565340223825904"
      ]
     },
     "execution_count": 70,
     "metadata": {},
     "output_type": "execute_result"
    }
   ],
   "source": [
    "#Cross validation score for Random Forest Regressor\n",
    "cross_val_score(vet_rf,performance_train,adp_train,cv=10).mean()"
   ]
  },
  {
   "cell_type": "code",
   "execution_count": 73,
   "metadata": {},
   "outputs": [
    {
     "data": {
      "text/plain": [
       "{'n_estimators': 25, 'max_depth': 5}"
      ]
     },
     "execution_count": 73,
     "metadata": {},
     "output_type": "execute_result"
    }
   ],
   "source": [
    "perform_search.best_params_"
   ]
  },
  {
   "cell_type": "code",
   "execution_count": 75,
   "metadata": {},
   "outputs": [
    {
     "data": {
      "text/plain": [
       "-2455.5473884918615"
      ]
     },
     "execution_count": 75,
     "metadata": {},
     "output_type": "execute_result"
    }
   ],
   "source": [
    "perform_search.best_score_"
   ]
  },
  {
   "cell_type": "code",
   "execution_count": 78,
   "metadata": {},
   "outputs": [],
   "source": [
    "perform_predict=perform_search.best_estimator_.predict(performance_test)"
   ]
  },
  {
   "cell_type": "code",
   "execution_count": 80,
   "metadata": {},
   "outputs": [
    {
     "data": {
      "text/plain": [
       "0.4415589604711726"
      ]
     },
     "execution_count": 80,
     "metadata": {},
     "output_type": "execute_result"
    }
   ],
   "source": [
    "from sklearn.metrics import r2_score\n",
    "\n",
    "r2_score(adp_test,perform_predict)"
   ]
  },
  {
   "cell_type": "code",
   "execution_count": 82,
   "metadata": {},
   "outputs": [
    {
     "name": "stdout",
     "output_type": "stream",
     "text": [
      "Root Mean Squared Error Random Forest: 57.23197685242139\n"
     ]
    }
   ],
   "source": [
    "#Prints the mean squared error for random forsr\n",
    "perform_rf_mse=mean_squared_error(adp_test,perform_predict)\n",
    "\n",
    "print('Root Mean Squared Error Random Forest:',np.sqrt(perform_rf_mse))"
   ]
  },
  {
   "cell_type": "code",
   "execution_count": 101,
   "metadata": {},
   "outputs": [
    {
     "data": {
      "text/plain": [
       "[('Pos', 0.02),\n",
       " ('AGE', 0.17),\n",
       " ('Round', 0.06),\n",
       " ('Fantasy Points', 0.26),\n",
       " ('Performance_Metric', 0.49)]"
      ]
     },
     "execution_count": 101,
     "metadata": {},
     "output_type": "execute_result"
    }
   ],
   "source": [
    "#Importance List\n",
    "importances=list(perform_search.best_estimator_.feature_importances_)\n",
    "\n",
    "importances\n",
    "\n",
    "feature_importance=[(X,round(importances,2))for X,importances in zip(col_names, importances)]\n",
    "\n",
    "feature_importance"
   ]
  },
  {
   "cell_type": "code",
   "execution_count": 212,
   "metadata": {},
   "outputs": [
    {
     "ename": "TypeError",
     "evalue": "can not initialize DMatrix from DMatrix",
     "output_type": "error",
     "traceback": [
      "\u001b[1;31m---------------------------------------------------------------------------\u001b[0m",
      "\u001b[1;31mTypeError\u001b[0m                                 Traceback (most recent call last)",
      "\u001b[1;32m~\\Anaconda3\\lib\\site-packages\\scipy\\sparse\\base.py\u001b[0m in \u001b[0;36masformat\u001b[1;34m(self, format, copy)\u001b[0m\n\u001b[0;32m    325\u001b[0m             \u001b[1;32mtry\u001b[0m\u001b[1;33m:\u001b[0m\u001b[1;33m\u001b[0m\u001b[1;33m\u001b[0m\u001b[0m\n\u001b[1;32m--> 326\u001b[1;33m                 \u001b[1;32mreturn\u001b[0m \u001b[0mconvert_method\u001b[0m\u001b[1;33m(\u001b[0m\u001b[0mcopy\u001b[0m\u001b[1;33m=\u001b[0m\u001b[0mcopy\u001b[0m\u001b[1;33m)\u001b[0m\u001b[1;33m\u001b[0m\u001b[1;33m\u001b[0m\u001b[0m\n\u001b[0m\u001b[0;32m    327\u001b[0m             \u001b[1;32mexcept\u001b[0m \u001b[0mTypeError\u001b[0m\u001b[1;33m:\u001b[0m\u001b[1;33m\u001b[0m\u001b[1;33m\u001b[0m\u001b[0m\n",
      "\u001b[1;32m~\\Anaconda3\\lib\\site-packages\\scipy\\sparse\\coo.py\u001b[0m in \u001b[0;36mtocsr\u001b[1;34m(self, copy)\u001b[0m\n\u001b[0;32m    405\u001b[0m             \u001b[0mindices\u001b[0m \u001b[1;33m=\u001b[0m \u001b[0mnp\u001b[0m\u001b[1;33m.\u001b[0m\u001b[0mempty_like\u001b[0m\u001b[1;33m(\u001b[0m\u001b[0mcol\u001b[0m\u001b[1;33m,\u001b[0m \u001b[0mdtype\u001b[0m\u001b[1;33m=\u001b[0m\u001b[0midx_dtype\u001b[0m\u001b[1;33m)\u001b[0m\u001b[1;33m\u001b[0m\u001b[1;33m\u001b[0m\u001b[0m\n\u001b[1;32m--> 406\u001b[1;33m             \u001b[0mdata\u001b[0m \u001b[1;33m=\u001b[0m \u001b[0mnp\u001b[0m\u001b[1;33m.\u001b[0m\u001b[0mempty_like\u001b[0m\u001b[1;33m(\u001b[0m\u001b[0mself\u001b[0m\u001b[1;33m.\u001b[0m\u001b[0mdata\u001b[0m\u001b[1;33m,\u001b[0m \u001b[0mdtype\u001b[0m\u001b[1;33m=\u001b[0m\u001b[0mupcast\u001b[0m\u001b[1;33m(\u001b[0m\u001b[0mself\u001b[0m\u001b[1;33m.\u001b[0m\u001b[0mdtype\u001b[0m\u001b[1;33m)\u001b[0m\u001b[1;33m)\u001b[0m\u001b[1;33m\u001b[0m\u001b[1;33m\u001b[0m\u001b[0m\n\u001b[0m\u001b[0;32m    407\u001b[0m \u001b[1;33m\u001b[0m\u001b[0m\n",
      "\u001b[1;32m~\\Anaconda3\\lib\\site-packages\\scipy\\sparse\\sputils.py\u001b[0m in \u001b[0;36mupcast\u001b[1;34m(*args)\u001b[0m\n\u001b[0;32m     52\u001b[0m \u001b[1;33m\u001b[0m\u001b[0m\n\u001b[1;32m---> 53\u001b[1;33m     \u001b[1;32mraise\u001b[0m \u001b[0mTypeError\u001b[0m\u001b[1;33m(\u001b[0m\u001b[1;34m'no supported conversion for types: %r'\u001b[0m \u001b[1;33m%\u001b[0m \u001b[1;33m(\u001b[0m\u001b[0margs\u001b[0m\u001b[1;33m,\u001b[0m\u001b[1;33m)\u001b[0m\u001b[1;33m)\u001b[0m\u001b[1;33m\u001b[0m\u001b[1;33m\u001b[0m\u001b[0m\n\u001b[0m\u001b[0;32m     54\u001b[0m \u001b[1;33m\u001b[0m\u001b[0m\n",
      "\u001b[1;31mTypeError\u001b[0m: no supported conversion for types: (dtype('O'),)",
      "\nDuring handling of the above exception, another exception occurred:\n",
      "\u001b[1;31mTypeError\u001b[0m                                 Traceback (most recent call last)",
      "\u001b[1;32m~\\Anaconda3\\lib\\site-packages\\xgboost\\core.py\u001b[0m in \u001b[0;36m__init__\u001b[1;34m(self, data, label, weight, base_margin, missing, silent, feature_names, feature_types, nthread)\u001b[0m\n\u001b[0;32m    544\u001b[0m             \u001b[1;32mtry\u001b[0m\u001b[1;33m:\u001b[0m\u001b[1;33m\u001b[0m\u001b[1;33m\u001b[0m\u001b[0m\n\u001b[1;32m--> 545\u001b[1;33m                 \u001b[0mcsr\u001b[0m \u001b[1;33m=\u001b[0m \u001b[0mscipy\u001b[0m\u001b[1;33m.\u001b[0m\u001b[0msparse\u001b[0m\u001b[1;33m.\u001b[0m\u001b[0mcsr_matrix\u001b[0m\u001b[1;33m(\u001b[0m\u001b[0mdata\u001b[0m\u001b[1;33m)\u001b[0m\u001b[1;33m\u001b[0m\u001b[1;33m\u001b[0m\u001b[0m\n\u001b[0m\u001b[0;32m    546\u001b[0m                 \u001b[0mself\u001b[0m\u001b[1;33m.\u001b[0m\u001b[0m_init_from_csr\u001b[0m\u001b[1;33m(\u001b[0m\u001b[0mcsr\u001b[0m\u001b[1;33m)\u001b[0m\u001b[1;33m\u001b[0m\u001b[1;33m\u001b[0m\u001b[0m\n",
      "\u001b[1;32m~\\Anaconda3\\lib\\site-packages\\scipy\\sparse\\compressed.py\u001b[0m in \u001b[0;36m__init__\u001b[1;34m(self, arg1, shape, dtype, copy)\u001b[0m\n\u001b[0;32m     87\u001b[0m             \u001b[1;32mfrom\u001b[0m \u001b[1;33m.\u001b[0m\u001b[0mcoo\u001b[0m \u001b[1;32mimport\u001b[0m \u001b[0mcoo_matrix\u001b[0m\u001b[1;33m\u001b[0m\u001b[1;33m\u001b[0m\u001b[0m\n\u001b[1;32m---> 88\u001b[1;33m             \u001b[0mself\u001b[0m\u001b[1;33m.\u001b[0m\u001b[0m_set_self\u001b[0m\u001b[1;33m(\u001b[0m\u001b[0mself\u001b[0m\u001b[1;33m.\u001b[0m\u001b[0m__class__\u001b[0m\u001b[1;33m(\u001b[0m\u001b[0mcoo_matrix\u001b[0m\u001b[1;33m(\u001b[0m\u001b[0marg1\u001b[0m\u001b[1;33m,\u001b[0m \u001b[0mdtype\u001b[0m\u001b[1;33m=\u001b[0m\u001b[0mdtype\u001b[0m\u001b[1;33m)\u001b[0m\u001b[1;33m)\u001b[0m\u001b[1;33m)\u001b[0m\u001b[1;33m\u001b[0m\u001b[1;33m\u001b[0m\u001b[0m\n\u001b[0m\u001b[0;32m     89\u001b[0m \u001b[1;33m\u001b[0m\u001b[0m\n",
      "\u001b[1;32m~\\Anaconda3\\lib\\site-packages\\scipy\\sparse\\compressed.py\u001b[0m in \u001b[0;36m__init__\u001b[1;34m(self, arg1, shape, dtype, copy)\u001b[0m\n\u001b[0;32m     36\u001b[0m             \u001b[1;32melse\u001b[0m\u001b[1;33m:\u001b[0m\u001b[1;33m\u001b[0m\u001b[1;33m\u001b[0m\u001b[0m\n\u001b[1;32m---> 37\u001b[1;33m                 \u001b[0marg1\u001b[0m \u001b[1;33m=\u001b[0m \u001b[0marg1\u001b[0m\u001b[1;33m.\u001b[0m\u001b[0masformat\u001b[0m\u001b[1;33m(\u001b[0m\u001b[0mself\u001b[0m\u001b[1;33m.\u001b[0m\u001b[0mformat\u001b[0m\u001b[1;33m)\u001b[0m\u001b[1;33m\u001b[0m\u001b[1;33m\u001b[0m\u001b[0m\n\u001b[0m\u001b[0;32m     38\u001b[0m             \u001b[0mself\u001b[0m\u001b[1;33m.\u001b[0m\u001b[0m_set_self\u001b[0m\u001b[1;33m(\u001b[0m\u001b[0marg1\u001b[0m\u001b[1;33m)\u001b[0m\u001b[1;33m\u001b[0m\u001b[1;33m\u001b[0m\u001b[0m\n",
      "\u001b[1;32m~\\Anaconda3\\lib\\site-packages\\scipy\\sparse\\base.py\u001b[0m in \u001b[0;36masformat\u001b[1;34m(self, format, copy)\u001b[0m\n\u001b[0;32m    327\u001b[0m             \u001b[1;32mexcept\u001b[0m \u001b[0mTypeError\u001b[0m\u001b[1;33m:\u001b[0m\u001b[1;33m\u001b[0m\u001b[1;33m\u001b[0m\u001b[0m\n\u001b[1;32m--> 328\u001b[1;33m                 \u001b[1;32mreturn\u001b[0m \u001b[0mconvert_method\u001b[0m\u001b[1;33m(\u001b[0m\u001b[1;33m)\u001b[0m\u001b[1;33m\u001b[0m\u001b[1;33m\u001b[0m\u001b[0m\n\u001b[0m\u001b[0;32m    329\u001b[0m \u001b[1;33m\u001b[0m\u001b[0m\n",
      "\u001b[1;32m~\\Anaconda3\\lib\\site-packages\\scipy\\sparse\\coo.py\u001b[0m in \u001b[0;36mtocsr\u001b[1;34m(self, copy)\u001b[0m\n\u001b[0;32m    405\u001b[0m             \u001b[0mindices\u001b[0m \u001b[1;33m=\u001b[0m \u001b[0mnp\u001b[0m\u001b[1;33m.\u001b[0m\u001b[0mempty_like\u001b[0m\u001b[1;33m(\u001b[0m\u001b[0mcol\u001b[0m\u001b[1;33m,\u001b[0m \u001b[0mdtype\u001b[0m\u001b[1;33m=\u001b[0m\u001b[0midx_dtype\u001b[0m\u001b[1;33m)\u001b[0m\u001b[1;33m\u001b[0m\u001b[1;33m\u001b[0m\u001b[0m\n\u001b[1;32m--> 406\u001b[1;33m             \u001b[0mdata\u001b[0m \u001b[1;33m=\u001b[0m \u001b[0mnp\u001b[0m\u001b[1;33m.\u001b[0m\u001b[0mempty_like\u001b[0m\u001b[1;33m(\u001b[0m\u001b[0mself\u001b[0m\u001b[1;33m.\u001b[0m\u001b[0mdata\u001b[0m\u001b[1;33m,\u001b[0m \u001b[0mdtype\u001b[0m\u001b[1;33m=\u001b[0m\u001b[0mupcast\u001b[0m\u001b[1;33m(\u001b[0m\u001b[0mself\u001b[0m\u001b[1;33m.\u001b[0m\u001b[0mdtype\u001b[0m\u001b[1;33m)\u001b[0m\u001b[1;33m)\u001b[0m\u001b[1;33m\u001b[0m\u001b[1;33m\u001b[0m\u001b[0m\n\u001b[0m\u001b[0;32m    407\u001b[0m \u001b[1;33m\u001b[0m\u001b[0m\n",
      "\u001b[1;32m~\\Anaconda3\\lib\\site-packages\\scipy\\sparse\\sputils.py\u001b[0m in \u001b[0;36mupcast\u001b[1;34m(*args)\u001b[0m\n\u001b[0;32m     52\u001b[0m \u001b[1;33m\u001b[0m\u001b[0m\n\u001b[1;32m---> 53\u001b[1;33m     \u001b[1;32mraise\u001b[0m \u001b[0mTypeError\u001b[0m\u001b[1;33m(\u001b[0m\u001b[1;34m'no supported conversion for types: %r'\u001b[0m \u001b[1;33m%\u001b[0m \u001b[1;33m(\u001b[0m\u001b[0margs\u001b[0m\u001b[1;33m,\u001b[0m\u001b[1;33m)\u001b[0m\u001b[1;33m)\u001b[0m\u001b[1;33m\u001b[0m\u001b[1;33m\u001b[0m\u001b[0m\n\u001b[0m\u001b[0;32m     54\u001b[0m \u001b[1;33m\u001b[0m\u001b[0m\n",
      "\u001b[1;31mTypeError\u001b[0m: no supported conversion for types: (dtype('O'),)",
      "\nDuring handling of the above exception, another exception occurred:\n",
      "\u001b[1;31mTypeError\u001b[0m                                 Traceback (most recent call last)",
      "\u001b[1;32m<ipython-input-212-be92147e1e65>\u001b[0m in \u001b[0;36m<module>\u001b[1;34m\u001b[0m\n\u001b[0;32m      1\u001b[0m \u001b[1;32mimport\u001b[0m \u001b[0mxgboost\u001b[0m \u001b[1;32mas\u001b[0m \u001b[0mxgb\u001b[0m\u001b[1;33m\u001b[0m\u001b[1;33m\u001b[0m\u001b[0m\n\u001b[0;32m      2\u001b[0m \u001b[1;33m\u001b[0m\u001b[0m\n\u001b[1;32m----> 3\u001b[1;33m \u001b[0mperformance_train\u001b[0m\u001b[1;33m=\u001b[0m\u001b[0mxgb\u001b[0m\u001b[1;33m.\u001b[0m\u001b[0mDMatrix\u001b[0m\u001b[1;33m(\u001b[0m\u001b[0mperformance_train\u001b[0m\u001b[1;33m,\u001b[0m\u001b[0mlabel\u001b[0m\u001b[1;33m=\u001b[0m\u001b[0madp_train\u001b[0m\u001b[1;33m)\u001b[0m\u001b[1;33m\u001b[0m\u001b[1;33m\u001b[0m\u001b[0m\n\u001b[0m\u001b[0;32m      4\u001b[0m \u001b[0mperformance_test\u001b[0m\u001b[1;33m=\u001b[0m\u001b[0mxgb\u001b[0m\u001b[1;33m.\u001b[0m\u001b[0mDMatrix\u001b[0m\u001b[1;33m(\u001b[0m\u001b[0mperformance_test\u001b[0m\u001b[1;33m,\u001b[0m\u001b[0mlabel\u001b[0m\u001b[1;33m=\u001b[0m\u001b[0madp_test\u001b[0m\u001b[1;33m)\u001b[0m\u001b[1;33m\u001b[0m\u001b[1;33m\u001b[0m\u001b[0m\n\u001b[0;32m      5\u001b[0m \u001b[1;33m\u001b[0m\u001b[0m\n",
      "\u001b[1;32m~\\Anaconda3\\lib\\site-packages\\xgboost\\core.py\u001b[0m in \u001b[0;36m__init__\u001b[1;34m(self, data, label, weight, base_margin, missing, silent, feature_names, feature_types, nthread)\u001b[0m\n\u001b[0;32m    547\u001b[0m             \u001b[1;32mexcept\u001b[0m \u001b[0mException\u001b[0m\u001b[1;33m:\u001b[0m\u001b[1;33m\u001b[0m\u001b[1;33m\u001b[0m\u001b[0m\n\u001b[0;32m    548\u001b[0m                 raise TypeError('can not initialize DMatrix from'\n\u001b[1;32m--> 549\u001b[1;33m                                 ' {}'.format(type(data).__name__))\n\u001b[0m\u001b[0;32m    550\u001b[0m \u001b[1;33m\u001b[0m\u001b[0m\n\u001b[0;32m    551\u001b[0m         \u001b[1;32mif\u001b[0m \u001b[0mlabel\u001b[0m \u001b[1;32mis\u001b[0m \u001b[1;32mnot\u001b[0m \u001b[1;32mNone\u001b[0m\u001b[1;33m:\u001b[0m\u001b[1;33m\u001b[0m\u001b[1;33m\u001b[0m\u001b[0m\n",
      "\u001b[1;31mTypeError\u001b[0m: can not initialize DMatrix from DMatrix"
     ]
    }
   ],
   "source": [
    "#XGB Boost. Ignore the error I already convert the matrices to DMatrix. Python didn't like that I ran it again\n",
    "import xgboost as xgb\n",
    "\n",
    "performance_train=xgb.DMatrix(performance_train,label=adp_train)\n",
    "performance_test=xgb.DMatrix(performance_test,label=adp_test)\n",
    "\n",
    "params={\n",
    "    'max_depth': 6,\n",
    "    'eta':0.5,\n",
    "    'objective':'reg:squarederror',\n",
    "    'colsample_bytree':0.3,\n",
    "    \n",
    "}"
   ]
  },
  {
   "cell_type": "code",
   "execution_count": 234,
   "metadata": {},
   "outputs": [],
   "source": [
    "#Parameters from XGBoost\n",
    "params={\n",
    "    'max_depth': 6,\n",
    "    'eta':0.6,\n",
    "    'objective':'reg:squarederror',\n",
    "    'colsample_bytree':0.3,\n",
    "    \n",
    "}"
   ]
  },
  {
   "cell_type": "code",
   "execution_count": 235,
   "metadata": {},
   "outputs": [],
   "source": [
    "#Trains and predicts XBG Boost model\n",
    "xg_reg=xgb.train(params,performance_train)\n",
    "perform_preds=xg_reg.predict(performance_test)"
   ]
  },
  {
   "cell_type": "code",
   "execution_count": 236,
   "metadata": {},
   "outputs": [
    {
     "data": {
      "text/html": [
       "<div>\n",
       "<style scoped>\n",
       "    .dataframe tbody tr th:only-of-type {\n",
       "        vertical-align: middle;\n",
       "    }\n",
       "\n",
       "    .dataframe tbody tr th {\n",
       "        vertical-align: top;\n",
       "    }\n",
       "\n",
       "    .dataframe thead th {\n",
       "        text-align: right;\n",
       "    }\n",
       "</style>\n",
       "<table border=\"1\" class=\"dataframe\">\n",
       "  <thead>\n",
       "    <tr style=\"text-align: right;\">\n",
       "      <th></th>\n",
       "      <th>train-rmse-mean</th>\n",
       "      <th>train-rmse-std</th>\n",
       "      <th>test-rmse-mean</th>\n",
       "      <th>test-rmse-std</th>\n",
       "    </tr>\n",
       "  </thead>\n",
       "  <tbody>\n",
       "    <tr>\n",
       "      <th>0</th>\n",
       "      <td>91.643298</td>\n",
       "      <td>0.221195</td>\n",
       "      <td>91.703667</td>\n",
       "      <td>0.620475</td>\n",
       "    </tr>\n",
       "    <tr>\n",
       "      <th>1</th>\n",
       "      <td>67.302616</td>\n",
       "      <td>5.345007</td>\n",
       "      <td>70.647708</td>\n",
       "      <td>2.868632</td>\n",
       "    </tr>\n",
       "    <tr>\n",
       "      <th>2</th>\n",
       "      <td>61.863934</td>\n",
       "      <td>7.615839</td>\n",
       "      <td>66.158784</td>\n",
       "      <td>3.733036</td>\n",
       "    </tr>\n",
       "    <tr>\n",
       "      <th>3</th>\n",
       "      <td>58.106567</td>\n",
       "      <td>9.285828</td>\n",
       "      <td>63.724477</td>\n",
       "      <td>4.690099</td>\n",
       "    </tr>\n",
       "    <tr>\n",
       "      <th>4</th>\n",
       "      <td>56.818657</td>\n",
       "      <td>9.413013</td>\n",
       "      <td>63.280994</td>\n",
       "      <td>4.605356</td>\n",
       "    </tr>\n",
       "    <tr>\n",
       "      <th>5</th>\n",
       "      <td>50.694361</td>\n",
       "      <td>3.859519</td>\n",
       "      <td>60.532599</td>\n",
       "      <td>1.440248</td>\n",
       "    </tr>\n",
       "    <tr>\n",
       "      <th>6</th>\n",
       "      <td>48.422485</td>\n",
       "      <td>4.249440</td>\n",
       "      <td>59.348280</td>\n",
       "      <td>1.092411</td>\n",
       "    </tr>\n",
       "    <tr>\n",
       "      <th>7</th>\n",
       "      <td>47.891829</td>\n",
       "      <td>4.648983</td>\n",
       "      <td>58.730279</td>\n",
       "      <td>1.507792</td>\n",
       "    </tr>\n",
       "    <tr>\n",
       "      <th>8</th>\n",
       "      <td>44.989749</td>\n",
       "      <td>2.610413</td>\n",
       "      <td>57.410990</td>\n",
       "      <td>0.127379</td>\n",
       "    </tr>\n",
       "    <tr>\n",
       "      <th>9</th>\n",
       "      <td>44.582848</td>\n",
       "      <td>2.564012</td>\n",
       "      <td>57.083945</td>\n",
       "      <td>0.251716</td>\n",
       "    </tr>\n",
       "    <tr>\n",
       "      <th>10</th>\n",
       "      <td>44.428909</td>\n",
       "      <td>2.611796</td>\n",
       "      <td>56.817444</td>\n",
       "      <td>0.328948</td>\n",
       "    </tr>\n",
       "    <tr>\n",
       "      <th>11</th>\n",
       "      <td>44.368476</td>\n",
       "      <td>2.655721</td>\n",
       "      <td>56.808658</td>\n",
       "      <td>0.384914</td>\n",
       "    </tr>\n",
       "    <tr>\n",
       "      <th>12</th>\n",
       "      <td>44.304418</td>\n",
       "      <td>2.624497</td>\n",
       "      <td>56.743005</td>\n",
       "      <td>0.407451</td>\n",
       "    </tr>\n",
       "    <tr>\n",
       "      <th>13</th>\n",
       "      <td>42.732067</td>\n",
       "      <td>1.255271</td>\n",
       "      <td>56.568790</td>\n",
       "      <td>0.845921</td>\n",
       "    </tr>\n",
       "    <tr>\n",
       "      <th>14</th>\n",
       "      <td>42.235035</td>\n",
       "      <td>0.719654</td>\n",
       "      <td>56.528177</td>\n",
       "      <td>0.860787</td>\n",
       "    </tr>\n",
       "    <tr>\n",
       "      <th>15</th>\n",
       "      <td>41.566372</td>\n",
       "      <td>0.744941</td>\n",
       "      <td>56.314650</td>\n",
       "      <td>1.167311</td>\n",
       "    </tr>\n",
       "    <tr>\n",
       "      <th>16</th>\n",
       "      <td>40.849989</td>\n",
       "      <td>0.617744</td>\n",
       "      <td>56.112914</td>\n",
       "      <td>0.855342</td>\n",
       "    </tr>\n",
       "    <tr>\n",
       "      <th>17</th>\n",
       "      <td>40.393897</td>\n",
       "      <td>0.827942</td>\n",
       "      <td>56.223614</td>\n",
       "      <td>0.949091</td>\n",
       "    </tr>\n",
       "    <tr>\n",
       "      <th>18</th>\n",
       "      <td>40.339940</td>\n",
       "      <td>0.840788</td>\n",
       "      <td>56.145369</td>\n",
       "      <td>0.895611</td>\n",
       "    </tr>\n",
       "    <tr>\n",
       "      <th>19</th>\n",
       "      <td>39.877599</td>\n",
       "      <td>1.228695</td>\n",
       "      <td>56.107328</td>\n",
       "      <td>1.017494</td>\n",
       "    </tr>\n",
       "    <tr>\n",
       "      <th>20</th>\n",
       "      <td>39.632921</td>\n",
       "      <td>1.519894</td>\n",
       "      <td>56.110919</td>\n",
       "      <td>1.059745</td>\n",
       "    </tr>\n",
       "    <tr>\n",
       "      <th>21</th>\n",
       "      <td>39.600864</td>\n",
       "      <td>1.504338</td>\n",
       "      <td>56.050156</td>\n",
       "      <td>1.069378</td>\n",
       "    </tr>\n",
       "    <tr>\n",
       "      <th>22</th>\n",
       "      <td>39.565352</td>\n",
       "      <td>1.515728</td>\n",
       "      <td>56.040849</td>\n",
       "      <td>1.100600</td>\n",
       "    </tr>\n",
       "  </tbody>\n",
       "</table>\n",
       "</div>"
      ],
      "text/plain": [
       "    train-rmse-mean  train-rmse-std  test-rmse-mean  test-rmse-std\n",
       "0         91.643298        0.221195       91.703667       0.620475\n",
       "1         67.302616        5.345007       70.647708       2.868632\n",
       "2         61.863934        7.615839       66.158784       3.733036\n",
       "3         58.106567        9.285828       63.724477       4.690099\n",
       "4         56.818657        9.413013       63.280994       4.605356\n",
       "5         50.694361        3.859519       60.532599       1.440248\n",
       "6         48.422485        4.249440       59.348280       1.092411\n",
       "7         47.891829        4.648983       58.730279       1.507792\n",
       "8         44.989749        2.610413       57.410990       0.127379\n",
       "9         44.582848        2.564012       57.083945       0.251716\n",
       "10        44.428909        2.611796       56.817444       0.328948\n",
       "11        44.368476        2.655721       56.808658       0.384914\n",
       "12        44.304418        2.624497       56.743005       0.407451\n",
       "13        42.732067        1.255271       56.568790       0.845921\n",
       "14        42.235035        0.719654       56.528177       0.860787\n",
       "15        41.566372        0.744941       56.314650       1.167311\n",
       "16        40.849989        0.617744       56.112914       0.855342\n",
       "17        40.393897        0.827942       56.223614       0.949091\n",
       "18        40.339940        0.840788       56.145369       0.895611\n",
       "19        39.877599        1.228695       56.107328       1.017494\n",
       "20        39.632921        1.519894       56.110919       1.059745\n",
       "21        39.600864        1.504338       56.050156       1.069378\n",
       "22        39.565352        1.515728       56.040849       1.100600"
      ]
     },
     "execution_count": 236,
     "metadata": {},
     "output_type": "execute_result"
    }
   ],
   "source": [
    "#Cross validation results\n",
    "xgb.cv(dtrain=train, params=params, nfold=3,\n",
    "                    num_boost_round=100,early_stopping_rounds=10,metrics=\"rmse\", as_pandas=True, seed=123)"
   ]
  },
  {
   "cell_type": "code",
   "execution_count": 237,
   "metadata": {},
   "outputs": [
    {
     "data": {
      "image/png": "[encoded data removed]",
      "text/plain": [
       "<Figure size 432x288 with 1 Axes>"
      ]
     },
     "metadata": {
      "needs_background": "light"
     },
     "output_type": "display_data"
    }
   ],
   "source": [
    "#Plots feature importance\n",
    "xgb.plot_importance(xg_reg)\n",
    "plt.show()"
   ]
  },
  {
   "cell_type": "code",
   "execution_count": 256,
   "metadata": {},
   "outputs": [
    {
     "data": {
      "text/html": [
       "<div>\n",
       "<style scoped>\n",
       "    .dataframe tbody tr th:only-of-type {\n",
       "        vertical-align: middle;\n",
       "    }\n",
       "\n",
       "    .dataframe tbody tr th {\n",
       "        vertical-align: top;\n",
       "    }\n",
       "\n",
       "    .dataframe thead th {\n",
       "        text-align: right;\n",
       "    }\n",
       "</style>\n",
       "<table border=\"1\" class=\"dataframe\">\n",
       "  <thead>\n",
       "    <tr style=\"text-align: right;\">\n",
       "      <th></th>\n",
       "      <th>Actual ADP</th>\n",
       "      <th>XGB Boost ADP</th>\n",
       "    </tr>\n",
       "  </thead>\n",
       "  <tbody>\n",
       "    <tr>\n",
       "      <th>0</th>\n",
       "      <td>55.50</td>\n",
       "      <td>171.662964</td>\n",
       "    </tr>\n",
       "    <tr>\n",
       "      <th>1</th>\n",
       "      <td>159.83</td>\n",
       "      <td>131.190079</td>\n",
       "    </tr>\n",
       "    <tr>\n",
       "      <th>2</th>\n",
       "      <td>49.50</td>\n",
       "      <td>109.970474</td>\n",
       "    </tr>\n",
       "    <tr>\n",
       "      <th>3</th>\n",
       "      <td>141.00</td>\n",
       "      <td>190.951340</td>\n",
       "    </tr>\n",
       "    <tr>\n",
       "      <th>4</th>\n",
       "      <td>16.83</td>\n",
       "      <td>110.990005</td>\n",
       "    </tr>\n",
       "    <tr>\n",
       "      <th>...</th>\n",
       "      <td>...</td>\n",
       "      <td>...</td>\n",
       "    </tr>\n",
       "    <tr>\n",
       "      <th>260</th>\n",
       "      <td>168.67</td>\n",
       "      <td>161.442841</td>\n",
       "    </tr>\n",
       "    <tr>\n",
       "      <th>261</th>\n",
       "      <td>20.00</td>\n",
       "      <td>144.219421</td>\n",
       "    </tr>\n",
       "    <tr>\n",
       "      <th>262</th>\n",
       "      <td>219.20</td>\n",
       "      <td>100.499748</td>\n",
       "    </tr>\n",
       "    <tr>\n",
       "      <th>263</th>\n",
       "      <td>56.17</td>\n",
       "      <td>148.670425</td>\n",
       "    </tr>\n",
       "    <tr>\n",
       "      <th>264</th>\n",
       "      <td>86.00</td>\n",
       "      <td>199.566696</td>\n",
       "    </tr>\n",
       "  </tbody>\n",
       "</table>\n",
       "<p>265 rows × 2 columns</p>\n",
       "</div>"
      ],
      "text/plain": [
       "     Actual ADP  XGB Boost ADP\n",
       "0         55.50     171.662964\n",
       "1        159.83     131.190079\n",
       "2         49.50     109.970474\n",
       "3        141.00     190.951340\n",
       "4         16.83     110.990005\n",
       "..          ...            ...\n",
       "260      168.67     161.442841\n",
       "261       20.00     144.219421\n",
       "262      219.20     100.499748\n",
       "263       56.17     148.670425\n",
       "264       86.00     199.566696\n",
       "\n",
       "[265 rows x 2 columns]"
      ]
     },
     "execution_count": 256,
     "metadata": {},
     "output_type": "execute_result"
    }
   ],
   "source": [
    "pd.DataFrame(list(zip(adp_test,perform_preds)),columns=['Actual ADP','XGB Boost ADP'])"
   ]
  },
  {
   "cell_type": "code",
   "execution_count": 83,
   "metadata": {},
   "outputs": [],
   "source": [
    "#Keras model with performance metric\n",
    "def perform_model(n_neurons,optimizer,n_hidden=1,learning_rate=0.1,input_dim=5,activation='relu'):\n",
    "    model=Sequential()\n",
    "    optimizer=optimizer\n",
    "    model.add(Dense(n_neurons,input_dim=input_dim,activation=activation))\n",
    "    for layer in range(n_hidden):\n",
    "        model.add(Dense(n_neurons, activation=activation))\n",
    "    model.add(Dense(1))\n",
    "    model.compile(loss='mse',optimizer=optimizer,metrics=['mae','mse'])\n",
    "    return model\n",
    "params_optimum={\n",
    "    'n_hidden':[10,11,12,13,14,15],\n",
    "    'n_neurons': [64,96,128,160,192,224,256],\n",
    "    'learning_rate':[0.1,0.01,0.001],\n",
    "    'epochs': [10,20,30,40,50,60,70,80,90,100],\n",
    "    'optimizer':['Adam','SGD','Adagrad']\n",
    "}"
   ]
  },
  {
   "cell_type": "code",
   "execution_count": 86,
   "metadata": {},
   "outputs": [
    {
     "name": "stdout",
     "output_type": "stream",
     "text": [
      "352/352 [==============================] - 0s 141us/step\n",
      "352/352 [==============================] - 0s 71us/step\n",
      "352/352 [==============================] - 0s 82us/step\n"
     ]
    },
    {
     "name": "stderr",
     "output_type": "stream",
     "text": [
      "C:\\Users\\John\\Anaconda3\\lib\\site-packages\\keras\\callbacks\\callbacks.py:820: RuntimeWarning: invalid value encountered in less\n",
      "  if self.monitor_op(current - self.min_delta, self.best):\n"
     ]
    },
    {
     "name": "stdout",
     "output_type": "stream",
     "text": [
      "352/352 [==============================] - 0s 214us/step\n",
      "352/352 [==============================] - 0s 201us/step\n",
      "352/352 [==============================] - 0s 128us/step\n",
      "352/352 [==============================] - 0s 102us/step\n",
      "352/352 [==============================] - 0s 140us/step\n",
      "352/352 [==============================] - 0s 105us/step\n",
      "352/352 [==============================] - 0s 122us/step\n",
      "352/352 [==============================] - 0s 119us/step\n",
      "352/352 [==============================] - 0s 125us/step\n",
      "352/352 [==============================] - 0s 170us/step\n",
      "352/352 [==============================] - 0s 120us/step\n",
      "352/352 [==============================] - 0s 168us/step\n",
      "352/352 [==============================] - 0s 234us/step\n",
      "352/352 [==============================] - 0s 190us/step\n",
      "352/352 [==============================] - 0s 235us/step\n",
      "352/352 [==============================] - 0s 162us/step\n",
      "352/352 [==============================] - 0s 142us/step\n",
      "352/352 [==============================] - 0s 82us/step\n",
      "352/352 [==============================] - 0s 133us/step\n",
      "352/352 [==============================] - 0s 153us/step\n",
      "352/352 [==============================] - 0s 202us/step\n",
      "352/352 [==============================] - 0s 82us/step\n",
      "352/352 [==============================] - 0s 96us/step\n",
      "352/352 [==============================] - 0s 82us/step\n",
      "352/352 [==============================] - 0s 113us/step\n",
      "352/352 [==============================] - 0s 91us/step\n",
      "352/352 [==============================] - 0s 161us/step\n"
     ]
    }
   ],
   "source": [
    "from keras.wrappers.scikit_learn import KerasRegressor\n",
    "import random\n",
    "#Random Grid Search using Kera's Classifier\n",
    "random.seed(42)\n",
    "\n",
    "keras_reg=KerasRegressor(build_fn=perform_model)\n",
    "\n",
    "random_search=RandomizedSearchCV(keras_reg,params_optimum,cv=3)\n",
    "\n",
    "perform_history=random_search.fit(performance_train,adp_train,validation_split=.2,verbose=0,\n",
    "                 callbacks=[EarlyStopping(monitor='val_loss',patience=10)])"
   ]
  },
  {
   "cell_type": "code",
   "execution_count": 88,
   "metadata": {},
   "outputs": [
    {
     "name": "stdout",
     "output_type": "stream",
     "text": [
      "Root Mean Squared Error Neural Network: 54.04307268534664\n"
     ]
    }
   ],
   "source": [
    "perform_keras_predict=random_search.best_estimator_.predict(performance_test)\n",
    "\n",
    "#Prints the mean squared error for Neural Network\n",
    "keras_mse=mean_squared_error(adp_test,perform_keras_predict)\n",
    "\n",
    "print('Root Mean Squared Error Neural Network:',np.sqrt(keras_mse))"
   ]
  },
  {
   "cell_type": "code",
   "execution_count": 90,
   "metadata": {},
   "outputs": [
    {
     "data": {
      "text/plain": [
       "0.5020566929138258"
      ]
     },
     "execution_count": 90,
     "metadata": {},
     "output_type": "execute_result"
    }
   ],
   "source": [
    "r2_score(adp_test,perform_keras_predict)"
   ]
  },
  {
   "cell_type": "code",
   "execution_count": 107,
   "metadata": {},
   "outputs": [],
   "source": [
    "#used only the most important features\n",
    "new_vet_df=vet_performance_df.loc[:,['AGE','Fantasy Points','Performance_Metric']]\n",
    "\n",
    "col_names=new_vet_df.columns\n",
    "\n",
    "new_vet_df=pd.DataFrame(new_vet_df,columns=col_names)\n",
    "\n",
    "perform_train,perform_test,adp_train,adp_test=train_test_split(new_vet_df,performance_target, \n",
    "                                                                       test_size=.2,random_state=123)\n"
   ]
  },
  {
   "cell_type": "code",
   "execution_count": 105,
   "metadata": {},
   "outputs": [],
   "source": [
    "new_perform_search=RandomizedSearchCV(vet_rf,param_distributions=params, cv=5,n_iter=16,scoring='neg_mean_squared_error',random_state=123)"
   ]
  },
  {
   "cell_type": "code",
   "execution_count": 108,
   "metadata": {},
   "outputs": [
    {
     "data": {
      "text/plain": [
       "RandomizedSearchCV(cv=5, error_score=nan,\n",
       "                   estimator=RandomForestRegressor(bootstrap=True,\n",
       "                                                   ccp_alpha=0.0,\n",
       "                                                   criterion='mse',\n",
       "                                                   max_depth=None,\n",
       "                                                   max_features='auto',\n",
       "                                                   max_leaf_nodes=None,\n",
       "                                                   max_samples=None,\n",
       "                                                   min_impurity_decrease=0.0,\n",
       "                                                   min_impurity_split=None,\n",
       "                                                   min_samples_leaf=1,\n",
       "                                                   min_samples_split=2,\n",
       "                                                   min_weight_fraction_leaf=0.0,\n",
       "                                                   n_estimators=100,\n",
       "                                                   n_jobs=None, oob_score=False,\n",
       "                                                   random_state=None, verbose=0,\n",
       "                                                   warm_start=False),\n",
       "                   iid='deprecated', n_iter=16, n_jobs=None,\n",
       "                   param_distributions={'max_depth': [2, 3, 4, 5],\n",
       "                                        'n_estimators': [25, 50, 75, 100]},\n",
       "                   pre_dispatch='2*n_jobs', random_state=123, refit=True,\n",
       "                   return_train_score=False, scoring='neg_mean_squared_error',\n",
       "                   verbose=0)"
      ]
     },
     "execution_count": 108,
     "metadata": {},
     "output_type": "execute_result"
    }
   ],
   "source": [
    "new_perform_search.fit(perform_train,adp_train)"
   ]
  },
  {
   "cell_type": "code",
   "execution_count": 109,
   "metadata": {},
   "outputs": [
    {
     "data": {
      "text/plain": [
       "0.454957922823081"
      ]
     },
     "execution_count": 109,
     "metadata": {},
     "output_type": "execute_result"
    }
   ],
   "source": [
    "cross_val_score(vet_rf,perform_train,adp_train,cv=10).mean()"
   ]
  },
  {
   "cell_type": "code",
   "execution_count": 111,
   "metadata": {},
   "outputs": [],
   "source": [
    "new_perform_predict=new_perform_search.best_estimator_.predict(perform_test)"
   ]
  },
  {
   "cell_type": "code",
   "execution_count": 113,
   "metadata": {},
   "outputs": [
    {
     "data": {
      "text/plain": [
       "0.4308245004109593"
      ]
     },
     "execution_count": 113,
     "metadata": {},
     "output_type": "execute_result"
    }
   ],
   "source": [
    "r2_score(adp_test,new_perform_predict)"
   ]
  },
  {
   "cell_type": "code",
   "execution_count": 115,
   "metadata": {},
   "outputs": [
    {
     "name": "stdout",
     "output_type": "stream",
     "text": [
      "Root Mean Squared Error Random Forest: 57.77942058934016\n"
     ]
    }
   ],
   "source": [
    "#Prints the mean squared error for random forest\n",
    "new_perform_rf_mse=mean_squared_error(adp_test,new_perform_predict)\n",
    "\n",
    "print('Root Mean Squared Error Random Forest:',np.sqrt(new_perform_rf_mse))"
   ]
  },
  {
   "cell_type": "code",
   "execution_count": 173,
   "metadata": {},
   "outputs": [],
   "source": [
    "#XGB Boost using the most important features\n",
    "import xgboost as xgb\n",
    "\n",
    "train=xgb.DMatrix(perform_train,label=adp_train)\n",
    "test=xgb.DMatrix(perform_test,label=adp_test)\n",
    "\n",
    "params={\n",
    "    'max_depth': 4,\n",
    "    'eta':0.5,\n",
    "    'objective':'reg:squarederror',\n",
    "    'colsample_bytree':0.3,\n",
    "    \n",
    "}"
   ]
  },
  {
   "cell_type": "code",
   "execution_count": 174,
   "metadata": {},
   "outputs": [],
   "source": [
    "xg_reg=xgb.train(params,train)"
   ]
  },
  {
   "cell_type": "code",
   "execution_count": 175,
   "metadata": {},
   "outputs": [],
   "source": [
    "preds=xg_reg.predict(test)"
   ]
  },
  {
   "cell_type": "code",
   "execution_count": 176,
   "metadata": {},
   "outputs": [
    {
     "data": {
      "text/html": [
       "<div>\n",
       "<style scoped>\n",
       "    .dataframe tbody tr th:only-of-type {\n",
       "        vertical-align: middle;\n",
       "    }\n",
       "\n",
       "    .dataframe tbody tr th {\n",
       "        vertical-align: top;\n",
       "    }\n",
       "\n",
       "    .dataframe thead th {\n",
       "        text-align: right;\n",
       "    }\n",
       "</style>\n",
       "<table border=\"1\" class=\"dataframe\">\n",
       "  <thead>\n",
       "    <tr style=\"text-align: right;\">\n",
       "      <th></th>\n",
       "      <th>train-rmse-mean</th>\n",
       "      <th>train-rmse-std</th>\n",
       "      <th>test-rmse-mean</th>\n",
       "      <th>test-rmse-std</th>\n",
       "    </tr>\n",
       "  </thead>\n",
       "  <tbody>\n",
       "    <tr>\n",
       "      <th>0</th>\n",
       "      <td>99.335739</td>\n",
       "      <td>0.193902</td>\n",
       "      <td>99.705403</td>\n",
       "      <td>0.753139</td>\n",
       "    </tr>\n",
       "    <tr>\n",
       "      <th>1</th>\n",
       "      <td>69.781505</td>\n",
       "      <td>0.467419</td>\n",
       "      <td>72.008573</td>\n",
       "      <td>0.523561</td>\n",
       "    </tr>\n",
       "    <tr>\n",
       "      <th>2</th>\n",
       "      <td>61.299330</td>\n",
       "      <td>2.499440</td>\n",
       "      <td>64.257875</td>\n",
       "      <td>2.212497</td>\n",
       "    </tr>\n",
       "    <tr>\n",
       "      <th>3</th>\n",
       "      <td>56.642816</td>\n",
       "      <td>3.200643</td>\n",
       "      <td>60.449594</td>\n",
       "      <td>1.258996</td>\n",
       "    </tr>\n",
       "    <tr>\n",
       "      <th>4</th>\n",
       "      <td>53.529414</td>\n",
       "      <td>1.631846</td>\n",
       "      <td>58.363797</td>\n",
       "      <td>0.552521</td>\n",
       "    </tr>\n",
       "    <tr>\n",
       "      <th>5</th>\n",
       "      <td>51.983368</td>\n",
       "      <td>1.485145</td>\n",
       "      <td>57.737371</td>\n",
       "      <td>0.584479</td>\n",
       "    </tr>\n",
       "    <tr>\n",
       "      <th>6</th>\n",
       "      <td>50.395102</td>\n",
       "      <td>1.051031</td>\n",
       "      <td>57.305065</td>\n",
       "      <td>0.580773</td>\n",
       "    </tr>\n",
       "    <tr>\n",
       "      <th>7</th>\n",
       "      <td>49.874724</td>\n",
       "      <td>1.075959</td>\n",
       "      <td>57.218935</td>\n",
       "      <td>0.570515</td>\n",
       "    </tr>\n",
       "    <tr>\n",
       "      <th>8</th>\n",
       "      <td>49.170713</td>\n",
       "      <td>1.045067</td>\n",
       "      <td>57.131393</td>\n",
       "      <td>0.223259</td>\n",
       "    </tr>\n",
       "    <tr>\n",
       "      <th>9</th>\n",
       "      <td>48.553228</td>\n",
       "      <td>0.878615</td>\n",
       "      <td>57.064702</td>\n",
       "      <td>0.289183</td>\n",
       "    </tr>\n",
       "    <tr>\n",
       "      <th>10</th>\n",
       "      <td>47.999389</td>\n",
       "      <td>0.945569</td>\n",
       "      <td>57.148696</td>\n",
       "      <td>0.136290</td>\n",
       "    </tr>\n",
       "    <tr>\n",
       "      <th>11</th>\n",
       "      <td>47.602775</td>\n",
       "      <td>0.940543</td>\n",
       "      <td>57.273518</td>\n",
       "      <td>0.230123</td>\n",
       "    </tr>\n",
       "    <tr>\n",
       "      <th>12</th>\n",
       "      <td>47.084082</td>\n",
       "      <td>0.905354</td>\n",
       "      <td>57.294586</td>\n",
       "      <td>0.204078</td>\n",
       "    </tr>\n",
       "    <tr>\n",
       "      <th>13</th>\n",
       "      <td>46.579498</td>\n",
       "      <td>0.762329</td>\n",
       "      <td>56.995471</td>\n",
       "      <td>0.116962</td>\n",
       "    </tr>\n",
       "    <tr>\n",
       "      <th>14</th>\n",
       "      <td>46.298316</td>\n",
       "      <td>0.800904</td>\n",
       "      <td>56.889303</td>\n",
       "      <td>0.236719</td>\n",
       "    </tr>\n",
       "    <tr>\n",
       "      <th>15</th>\n",
       "      <td>45.978586</td>\n",
       "      <td>0.900784</td>\n",
       "      <td>56.955875</td>\n",
       "      <td>0.267034</td>\n",
       "    </tr>\n",
       "    <tr>\n",
       "      <th>16</th>\n",
       "      <td>45.495955</td>\n",
       "      <td>0.769127</td>\n",
       "      <td>56.889210</td>\n",
       "      <td>0.237438</td>\n",
       "    </tr>\n",
       "  </tbody>\n",
       "</table>\n",
       "</div>"
      ],
      "text/plain": [
       "    train-rmse-mean  train-rmse-std  test-rmse-mean  test-rmse-std\n",
       "0         99.335739        0.193902       99.705403       0.753139\n",
       "1         69.781505        0.467419       72.008573       0.523561\n",
       "2         61.299330        2.499440       64.257875       2.212497\n",
       "3         56.642816        3.200643       60.449594       1.258996\n",
       "4         53.529414        1.631846       58.363797       0.552521\n",
       "5         51.983368        1.485145       57.737371       0.584479\n",
       "6         50.395102        1.051031       57.305065       0.580773\n",
       "7         49.874724        1.075959       57.218935       0.570515\n",
       "8         49.170713        1.045067       57.131393       0.223259\n",
       "9         48.553228        0.878615       57.064702       0.289183\n",
       "10        47.999389        0.945569       57.148696       0.136290\n",
       "11        47.602775        0.940543       57.273518       0.230123\n",
       "12        47.084082        0.905354       57.294586       0.204078\n",
       "13        46.579498        0.762329       56.995471       0.116962\n",
       "14        46.298316        0.800904       56.889303       0.236719\n",
       "15        45.978586        0.900784       56.955875       0.267034\n",
       "16        45.495955        0.769127       56.889210       0.237438"
      ]
     },
     "execution_count": 176,
     "metadata": {},
     "output_type": "execute_result"
    }
   ],
   "source": [
    "cv_results = xgb.cv(dtrain=train, params=params, nfold=3,\n",
    "                    num_boost_round=66,early_stopping_rounds=10,metrics=\"rmse\", as_pandas=True, seed=123)\n",
    "\n",
    "cv_results"
   ]
  },
  {
   "cell_type": "code",
   "execution_count": 177,
   "metadata": {},
   "outputs": [
    {
     "data": {
      "image/png": "[encoded data removed]",
      "text/plain": [
       "<Figure size 432x288 with 1 Axes>"
      ]
     },
     "metadata": {
      "needs_background": "light"
     },
     "output_type": "display_data"
    }
   ],
   "source": [
    "xgb.plot_importance(xg_reg)\n",
    "plt.show()"
   ]
  },
  {
   "cell_type": "code",
   "execution_count": 178,
   "metadata": {},
   "outputs": [
    {
     "data": {
      "text/plain": [
       "0.4386502448274284"
      ]
     },
     "execution_count": 178,
     "metadata": {},
     "output_type": "execute_result"
    }
   ],
   "source": [
    "r2_score(adp_test,preds)"
   ]
  },
  {
   "cell_type": "code",
   "execution_count": 202,
   "metadata": {},
   "outputs": [],
   "source": [
    "from sklearn.model_selection import GridSearchCV\n",
    "\n",
    "xg_reg=xgb.XGBRegressor()\n",
    "\n",
    "param_grid={\n",
    "    'n_estimators':[3,10,30],\n",
    "    'max_depth':[3,4,5],\n",
    "    'eta':[.1,.3,.5],\n",
    "   \n",
    "}\n",
    "\n",
    "grid_search=GridSearchCV(xg_reg,param_grid,cv=5,scoring='neg_mean_squared_error',return_train_score=True)\n"
   ]
  },
  {
   "cell_type": "code",
   "execution_count": 203,
   "metadata": {},
   "outputs": [
    {
     "data": {
      "text/plain": [
       "GridSearchCV(cv=5, error_score=nan,\n",
       "             estimator=XGBRegressor(base_score=None, booster=None,\n",
       "                                    colsample_bylevel=None,\n",
       "                                    colsample_bynode=None,\n",
       "                                    colsample_bytree=None, gamma=None,\n",
       "                                    gpu_id=None, importance_type='gain',\n",
       "                                    interaction_constraints=None,\n",
       "                                    learning_rate=None, max_delta_step=None,\n",
       "                                    max_depth=None, min_child_weight=None,\n",
       "                                    missing=nan, monotone_constraints=None,\n",
       "                                    n_estima...\n",
       "                                    random_state=None, reg_alpha=None,\n",
       "                                    reg_lambda=None, scale_pos_weight=None,\n",
       "                                    subsample=None, tree_method=None,\n",
       "                                    validate_parameters=None, verbosity=None),\n",
       "             iid='deprecated', n_jobs=None,\n",
       "             param_grid={'eta': [0.1, 0.3, 0.5], 'max_depth': [3, 4, 5],\n",
       "                         'n_estimators': [3, 10, 30]},\n",
       "             pre_dispatch='2*n_jobs', refit=True, return_train_score=True,\n",
       "             scoring='neg_mean_squared_error', verbose=0)"
      ]
     },
     "execution_count": 203,
     "metadata": {},
     "output_type": "execute_result"
    }
   ],
   "source": [
    "grid_search.fit(perform_train,adp_train)"
   ]
  },
  {
   "cell_type": "code",
   "execution_count": 204,
   "metadata": {},
   "outputs": [
    {
     "name": "stdout",
     "output_type": "stream",
     "text": [
      "(116.58559044143726, {'eta': 0.1, 'max_depth': 3, 'n_estimators': 3})\n",
      "(73.3554389800461, {'eta': 0.1, 'max_depth': 3, 'n_estimators': 10})\n",
      "(53.37919875348251, {'eta': 0.1, 'max_depth': 3, 'n_estimators': 30})\n",
      "(116.5217035840844, {'eta': 0.1, 'max_depth': 4, 'n_estimators': 3})\n",
      "(73.1764969676662, {'eta': 0.1, 'max_depth': 4, 'n_estimators': 10})\n",
      "(53.280427711647064, {'eta': 0.1, 'max_depth': 4, 'n_estimators': 30})\n",
      "(116.48148519112513, {'eta': 0.1, 'max_depth': 5, 'n_estimators': 3})\n",
      "(73.25991468568797, {'eta': 0.1, 'max_depth': 5, 'n_estimators': 10})\n",
      "(53.648754565353016, {'eta': 0.1, 'max_depth': 5, 'n_estimators': 30})\n",
      "(72.89252130457072, {'eta': 0.3, 'max_depth': 3, 'n_estimators': 3})\n",
      "(53.19118334023798, {'eta': 0.3, 'max_depth': 3, 'n_estimators': 10})\n",
      "(53.26811912022277, {'eta': 0.3, 'max_depth': 3, 'n_estimators': 30})\n",
      "(73.16873892561772, {'eta': 0.3, 'max_depth': 4, 'n_estimators': 3})\n",
      "(53.219733503826895, {'eta': 0.3, 'max_depth': 4, 'n_estimators': 10})\n",
      "(54.35011380049295, {'eta': 0.3, 'max_depth': 4, 'n_estimators': 30})\n",
      "(72.92325354459001, {'eta': 0.3, 'max_depth': 5, 'n_estimators': 3})\n",
      "(53.58842946149487, {'eta': 0.3, 'max_depth': 5, 'n_estimators': 10})\n",
      "(55.38360377153467, {'eta': 0.3, 'max_depth': 5, 'n_estimators': 30})\n",
      "(56.74088773391685, {'eta': 0.5, 'max_depth': 3, 'n_estimators': 3})\n",
      "(53.22193572067445, {'eta': 0.5, 'max_depth': 3, 'n_estimators': 10})\n",
      "(54.466318199588386, {'eta': 0.5, 'max_depth': 3, 'n_estimators': 30})\n",
      "(56.57191354709455, {'eta': 0.5, 'max_depth': 4, 'n_estimators': 3})\n",
      "(54.53424940292489, {'eta': 0.5, 'max_depth': 4, 'n_estimators': 10})\n",
      "(56.63801242298518, {'eta': 0.5, 'max_depth': 4, 'n_estimators': 30})\n",
      "(56.70220496871654, {'eta': 0.5, 'max_depth': 5, 'n_estimators': 3})\n",
      "(55.04823237029638, {'eta': 0.5, 'max_depth': 5, 'n_estimators': 10})\n",
      "(58.26468544554203, {'eta': 0.5, 'max_depth': 5, 'n_estimators': 30})\n"
     ]
    }
   ],
   "source": [
    "cvresults=grid_search.cv_results_\n",
    "\n",
    "for mean_score,params in zip(cvresults['mean_test_score'],cvresults['params']):\n",
    "    print((np.sqrt(-mean_score),params))"
   ]
  },
  {
   "cell_type": "code",
   "execution_count": null,
   "metadata": {},
   "outputs": [],
   "source": []
  }
 ],
 "metadata": {
  "kernelspec": {
   "display_name": "Python 3",
   "language": "python",
   "name": "python3"
  },
  "language_info": {
   "codemirror_mode": {
    "name": "ipython",
    "version": 3
   },
   "file_extension": ".py",
   "mimetype": "text/x-python",
   "name": "python",
   "nbconvert_exporter": "python",
   "pygments_lexer": "ipython3",
   "version": "3.7.4"
  }
 },
 "nbformat": 4,
 "nbformat_minor": 4
}
